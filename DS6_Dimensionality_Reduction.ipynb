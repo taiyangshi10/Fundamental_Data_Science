{
 "cells": [
  {
   "cell_type": "markdown",
   "metadata": {
    "id": "JC1GIAEp8JEq"
   },
   "source": [
    "# 基盤DS演習 第6回\n",
    "\n",
    "※本演習資料の二次配布・再配布はお断り致します。"
   ]
  },
  {
   "cell_type": "markdown",
   "metadata": {
    "id": "eCu0zTYzh42j"
   },
   "source": [
    "　今回の演習の内容は以下の通りである。\n",
    "\n",
    "- **DS6.0 | 次元削減とは**\n",
    "- **DS6.1 | 主成分分析 (PCA) の復習**\n",
    "- **DS6.2 | 多次元尺度構成法 (multidimensional scaling; MDS)**\n",
    "- **DS6.3 | 正準相関分析 (Canonical Correlation Analysis; CCA)**\n",
    "- **DS6.4 | 次元削減と分類予測手法の組み合わせ** "
   ]
  },
  {
   "cell_type": "markdown",
   "metadata": {
    "id": "zWAEQvnt8qCo"
   },
   "source": [
    "## DS6.0 | 次元削減とは"
   ]
  },
  {
   "cell_type": "markdown",
   "metadata": {
    "id": "BAfZeZeR8t83"
   },
   "source": [
    "　次元削減とは高次元のデータを低次元に射影する手法のことで、\n",
    "\n",
    "*   **データの圧縮**による計算コストの削減\n",
    "*   **ノイズの削減**による予測精度の向上\n",
    "*   **データの可視化**によるデータの解析・解釈\n",
    "\n",
    "などに用いられる。\n",
    "\n"
   ]
  },
  {
   "cell_type": "markdown",
   "metadata": {
    "id": "A307Ukgmv7ho"
   },
   "source": [
    "## DS6.1 | 主成分分析 (principal component analysis; PCA)の復習"
   ]
  },
  {
   "cell_type": "markdown",
   "metadata": {
    "id": "FL1Z0k46v_cA"
   },
   "source": [
    "　主成分分析 (PCA) とは、長さ$K$のベクトルであるようなデータ $x_n$ を、より低次元である $r$ 次元のベクトルに線形変換するものであった。\n",
    "\n",
    "　PCAは、観測されたデータの広がりを最もよく表すような低次元表現を与えるという意味で次元削減の手法でもある。\n",
    "では、基盤データサイエンス演習 第4回でも使用したdigitsデータ（のうち300件）を用いて主成分分析を行ってみよう。"
   ]
  },
  {
   "cell_type": "code",
   "execution_count": 1,
   "metadata": {
    "id": "6e0UbTsz0yir"
   },
   "outputs": [],
   "source": [
    "from sklearn import datasets\n",
    "import matplotlib.pyplot as plt\n",
    "\n",
    "num_data = 300\n",
    "d = datasets.load_digits()\n",
    "X = d.data[:num_data]\n",
    "y = d.target[:num_data]"
   ]
  },
  {
   "cell_type": "code",
   "execution_count": 2,
   "metadata": {
    "id": "I6eVviynsqpl"
   },
   "outputs": [],
   "source": [
    "def plot_digits(X, y, n_labels=10, title=None):\n",
    "  # plot X/y in 2-dimensions\n",
    "  plt.figure(figsize=(5,5))\n",
    "\n",
    "  # set color palette for plot\n",
    "  color = [plt.cm.nipy_spectral(i/n_labels, 1) for i in range(n_labels)] \n",
    "\n",
    "  # plot by each label\n",
    "  for i in range(n_labels):\n",
    "    plt.scatter(X[y==i, 0], X[y==i, 1], \n",
    "                color=color[i], marker=f\"${i}$\")\n",
    "  plt.xlabel(\"1st axis\")\n",
    "  plt.ylabel(\"2nd axis\")\n",
    "  plt.title(title)\n",
    "  plt.show()"
   ]
  },
  {
   "cell_type": "markdown",
   "metadata": {
    "id": "TItQF-288bsU"
   },
   "source": [
    "　では、実際にPCAを行い、結果を可視化してみよう。 今回は2次元に可視化するため、`n_components=2`を指定する。\n"
   ]
  },
  {
   "cell_type": "code",
   "execution_count": 3,
   "metadata": {
    "id": "xW6uxe9AcTCh"
   },
   "outputs": [
    {
     "data": {
      "image/png": "[encoded data removed]",
      "text/plain": [
       "<Figure size 360x360 with 1 Axes>"
      ]
     },
     "metadata": {
      "needs_background": "light"
     },
     "output_type": "display_data"
    }
   ],
   "source": [
    "# prepare PCA\n",
    "from sklearn.decomposition import PCA\n",
    "\n",
    "pca = PCA(n_components=2) # 2 components will be used\n",
    "pca.fit(X) # obtain principal component\n",
    "images_map = pca.transform(X) # transform input data using PCA\n",
    "\n",
    "plot_digits(images_map, y, n_labels=10)"
   ]
  },
  {
   "cell_type": "markdown",
   "metadata": {
    "id": "QsbDTSY_clga"
   },
   "source": [
    "　PCAでは、各主成分（固有ベクトル）の値を見ることで、どの説明変数が主要な寄与をしているか、また各主成分の固有値がデータの分散のどれだけの割合を表しているか確認することができる。実際に各成分の寄与を見てみよう。"
   ]
  },
  {
   "cell_type": "code",
   "execution_count": 4,
   "metadata": {
    "id": "ryaHtUOq_4QK"
   },
   "outputs": [
    {
     "name": "stdout",
     "output_type": "stream",
     "text": [
      "               0         1         2         3         4         5         6   \\\n",
      "PC1  2.913330e-18  0.000984  0.008866  0.118866 -0.056783 -0.171844 -0.044215   \n",
      "PC2 -6.354556e-18 -0.023672 -0.255373 -0.246952  0.055550  0.019737  0.002306   \n",
      "PC3 -4.294286e-18  0.038710  0.215437  0.123799  0.091058  0.153439  0.056270   \n",
      "\n",
      "           7             8         9   ...        54        55   56        57  \\\n",
      "PC1 -0.004093  6.938894e-18  0.035431  ...  0.114250  0.002496  0.0  0.001445   \n",
      "PC2  0.000985 -5.551115e-17 -0.077375  ... -0.060070  0.000430  0.0 -0.021826   \n",
      "PC3  0.007944 -1.665335e-16  0.079130  ... -0.161661 -0.003160 -0.0  0.040464   \n",
      "\n",
      "           58        59        60        61        62        63  \n",
      "PC1  0.001661  0.113164  0.074104  0.013298  0.049194  0.000278  \n",
      "PC2 -0.264832 -0.259050  0.005141  0.026306  0.006144 -0.001254  \n",
      "PC3  0.235633  0.122043 -0.240898 -0.234537 -0.034888 -0.000164  \n",
      "\n",
      "[3 rows x 64 columns]\n"
     ]
    }
   ],
   "source": [
    "import pandas as pd\n",
    "pca = PCA(n_components=3).fit(X) # PCA, use 3 components\n",
    "\n",
    "columns = range(64)\n",
    "indexes = [\"PC1\", \"PC2\", \"PC3\"]\n",
    "components = pca.components_ # get components from PCA result\n",
    "\n",
    "print(pd.DataFrame(components, index=indexes, columns=columns))"
   ]
  },
  {
   "cell_type": "markdown",
   "metadata": {
    "id": "RnBiCjwQq15w"
   },
   "source": [
    "---\n",
    "##### 課題 DS6.1\n",
    "\n",
    "　下の文章について、二つの空欄[  A  ], [  B  ]にそれぞれ適切な語句を埋めて文章を完成させよ。\n",
    "\n",
    "![swiss_role](https://i.imgur.com/YDGNKRS.png)\n",
    "\n",
    "```\n",
    "PCAではデータの分散が最大となる方向が軸となるように低次元化する手法であった。\n",
    "一方、データの特徴を表す向きが直線でない場合もある。図はswiss-roleデータセットと呼ばれ、平面のデータを曲げて三次元にしたデータである。\n",
    "適切に低次元化した場合、巻く方向とそれに直交する方向の2軸（2次元の情報）でこのデータを表すことができる。\n",
    "\n",
    "一方、PCAでは、このように各変数に[  A  ]な関係がないが、[  B  ]な関係があるデータに対しては適切に低次元化ができない。\n",
    "```\n",
    "\n",
    "--------"
   ]
  },
  {
   "cell_type": "markdown",
   "metadata": {
    "id": "SiwdfAUcZlzx"
   },
   "source": [
    "##### 課題 DS6.2（発展）\n",
    "　課題 DS6.1で示したような swiss-role データセットについて、うずまきの内側とうずまきの外側を分離することのできる次元削減手法を調べて答えよ。"
   ]
  },
  {
   "cell_type": "markdown",
   "metadata": {
    "id": "tiIKhOc-_CYB"
   },
   "source": [
    "---\n",
    "## DS6.2 | 多次元尺度構成法 (multidimensional scaling; MDS)"
   ]
  },
  {
   "cell_type": "markdown",
   "metadata": {
    "id": "V_f8UIyD_IL8"
   },
   "source": [
    "　PCAはデータ全体の広がりを保つように低次元化する手法であったが、MDSは**データの組の距離関係をできるだけ再現するように低次元化する手法**である。MDSにはMetric MDSとNonmetric MDSがあり、いずれも元の空間での各データ点間の非類似度（dissimilarity, 距離のようなもの）が与えられている必要がある。ここでは、Metric MDSに絞って実行してみよう。\n",
    "\n",
    "　Metric MDSではデータ点間の非類似度が変換前後で一致するような低次元化を行う。数学的に表現すると、射影前の空間での非類似度$d_{ij}$と射影後の非類似度$\\|z_i - z_j\\|$の差を最小化する、つまり\n",
    "$$\n",
    "\\min_{z_1, \\ldots, z_n \\in \\mathbb{R}^r} \\sum_{i, j}\\left(d_{ij} - \\|z_i - z_j\\|\\right)^2\n",
    "$$\n",
    "を解く。なお、scikit-learnのMetric MDSは、デフォルトではデータ間のユークリッド距離（画像であれば、1つの画像の各画素の値をN次元ベクトルとみて、N次元空間における画像間のユークリッド距離）を非類似度として用いる。\n",
    "\n"
   ]
  },
  {
   "cell_type": "code",
   "execution_count": 5,
   "metadata": {
    "id": "expD74HhCazp"
   },
   "outputs": [
    {
     "data": {
      "image/png": "[encoded data removed]",
      "text/plain": [
       "<Figure size 360x360 with 1 Axes>"
      ]
     },
     "metadata": {
      "needs_background": "light"
     },
     "output_type": "display_data"
    }
   ],
   "source": [
    "from sklearn.manifold import MDS\n",
    "mds = MDS(n_components=2, metric=True, random_state=0) # metric MDS\n",
    "X_low = mds.fit_transform(X)\n",
    "\n",
    "plot_digits(X_low, y, n_labels=10)"
   ]
  },
  {
   "cell_type": "markdown",
   "metadata": {
    "id": "c6k0lKiearBF"
   },
   "source": [
    "　なお、MDSは内部にランダムな要素を含むアルゴリズムであり、乱数のシード `random_state` によって結果が変化する。乱数のシードを変更し、結果が変わることを確かめてほしい。"
   ]
  },
  {
   "cell_type": "markdown",
   "metadata": {
    "id": "p23726vdEPFY"
   },
   "source": [
    "## DS6.3 | 正準相関分析 (Canonical Correlation Analysis; CCA)"
   ]
  },
  {
   "cell_type": "markdown",
   "metadata": {
    "id": "BFR70eylETTJ"
   },
   "source": [
    "　CCAは**組になっている**二変数の列$$(x_1, z_1), \\ldots, (x_n, z_n)$$に対して、**$x$と$z$に共通した**低次元表現を与える手法である。これを求めるために、\n",
    "$$\n",
    "\\min_{A,B}\\frac{1}{n} \\sum_{i=1}^{n}\\|A^T x_i - B^T z_i \\|^2 \\ \\ \\ \\\n",
    "{\\rm s.t. }\\ \\ \n",
    "\\mathbb{V}[A^T x_i]=\\mathbb{V}[B^T z_i] = I_r\n",
    "$$\n",
    "を解いて変換$A$, $B$を求める。\n",
    "\n",
    "　CCAでは例えば、$x$, $z$がそれぞれ1次元のデータで、$c_i$はシグナル、$n_i, n'_i$はノイズ、$\\varepsilon$は小さい定数とし、\n",
    "$$ \\left\\{\n",
    "\\begin{array}{l} \n",
    "x_i= \\varepsilon c_i+n_i \\\\\n",
    "z_i= \\varepsilon c_i+n'_i \\\\\n",
    "\\end{array}\n",
    "\\right.$$\n",
    "であるようなとき、PCAではノイズ$n_i, n_i'$を強く検出してしまうが、CCAは$c_i$を検出することが可能である。なお、次の例で取り扱うように、CCAでは$x$と$z$の次元数は等しくなくてもよい。"
   ]
  },
  {
   "cell_type": "markdown",
   "metadata": {
    "id": "8M-mWywlydmK"
   },
   "source": [
    "### DS6.3.1 | CCAの実行\n",
    "\n",
    "　今回は、講義で行ったようにdigitsデータの画像の上部と下部のデータにCCAを適用し、それらが関連付けられる様子を見てみよう。ここでは画像の最初の48次元が$x$、後の16次元が$z$である。\n",
    "\n",
    "![digits split](https://i.imgur.com/xP3OAuI.png)"
   ]
  },
  {
   "cell_type": "code",
   "execution_count": 6,
   "metadata": {
    "id": "4Mprx_wkIMe0"
   },
   "outputs": [],
   "source": [
    "num_data = 300\n",
    "d = datasets.load_digits()\n",
    "D = d.data[:num_data]\n",
    "y = d.target[:num_data]\n",
    "\n",
    "X = D[:, :48] # 0...47  feature\n",
    "Z = D[:, 48:] # 48...63 feature"
   ]
  },
  {
   "cell_type": "code",
   "execution_count": 7,
   "metadata": {
    "id": "vxNooTXAKj9w"
   },
   "outputs": [
    {
     "name": "stderr",
     "output_type": "stream",
     "text": [
      "D:\\Softwares\\Anaconda\\envs\\tf\\lib\\site-packages\\sklearn\\cross_decomposition\\_pls.py:77: ConvergenceWarning: Maximum number of iterations reached\n",
      "  ConvergenceWarning)\n"
     ]
    }
   ],
   "source": [
    "# projection by CCA\n",
    "from sklearn.cross_decomposition import CCA\n",
    "cca = CCA(n_components=2, scale=True)\n",
    "cca.fit(X, Z)\n",
    "Xc, Zc = cca.transform(X, Z)"
   ]
  },
  {
   "cell_type": "code",
   "execution_count": 8,
   "metadata": {
    "id": "K12bdSXKB_Ga"
   },
   "outputs": [
    {
     "data": {
      "image/png": "[encoded data removed]",
      "text/plain": [
       "<Figure size 360x360 with 1 Axes>"
      ]
     },
     "metadata": {
      "needs_background": "light"
     },
     "output_type": "display_data"
    },
    {
     "data": {
      "image/png": "[encoded data removed]",
      "text/plain": [
       "<Figure size 360x360 with 1 Axes>"
      ]
     },
     "metadata": {
      "needs_background": "light"
     },
     "output_type": "display_data"
    }
   ],
   "source": [
    "# plot results\n",
    "plot_digits(Xc, y, title=\"Xc\")\n",
    "plot_digits(Zc, y, title=\"Zc\")"
   ]
  },
  {
   "cell_type": "markdown",
   "metadata": {
    "id": "KFYyUpK-D8nq"
   },
   "source": [
    "　実行結果から、$X$と$Z$が似た形状の空間に射影されており、また同じ数字は同じような位置に射影されている。\n",
    "\n",
    "この結果から、CCAによって画像の上部分と下部分が関連付けられた低次元表現が得られたことがわかる。"
   ]
  },
  {
   "cell_type": "markdown",
   "metadata": {
    "id": "Cm2nGGXrESyT"
   },
   "source": [
    "---\n",
    "##### 課題 DS6.3\n",
    "　CCAによって得られた低次元表現で$X$と$Z$が関連付けられていることを定量的に確認しよう。\n",
    "CCAを用いて$X$と$Z$を**1次元**に射影したとき、$X$から求められた値と$Z$から求められた値との相関係数 (correlation coefficient) はいくらになるか。小数点以下2桁で答えよ。"
   ]
  },
  {
   "cell_type": "markdown",
   "metadata": {
    "id": "9HU25s52cmCX"
   },
   "source": [
    "---\n",
    "### DS6.3.2 | CCAによる画像の復元（発展）\n",
    "\n",
    "　基盤データサイエンス演習 第4回 では、PCAで得られた複数の主成分から画像を再構成することを行った。ここでは、似たような取り組みとして、CCAを用いて低次元化した画像を復元してみよう。\n"
   ]
  },
  {
   "cell_type": "code",
   "execution_count": 9,
   "metadata": {
    "id": "Q0u-2t8scwKd"
   },
   "outputs": [],
   "source": [
    "# prepare dataset\n",
    "num_data = 300\n",
    "d = datasets.load_digits()\n",
    "D = d.data[:num_data]\n",
    "y = d.target[:num_data]\n",
    "\n",
    "X = D[:, :48] # 0...47  feature\n",
    "Z = D[:, 48:] # 48...63 feature\n",
    "\n",
    "# prepare one test image\n",
    "image_index = 0\n",
    "X_test = D[image_index, :48].reshape(1, -1)\n",
    "Z_test = D[image_index, 48:].reshape(1, -1)\n"
   ]
  },
  {
   "cell_type": "code",
   "execution_count": 10,
   "metadata": {
    "id": "qkICLwm8dBWc"
   },
   "outputs": [
    {
     "name": "stderr",
     "output_type": "stream",
     "text": [
      "D:\\Softwares\\Anaconda\\envs\\tf\\lib\\site-packages\\sklearn\\cross_decomposition\\_pls.py:77: ConvergenceWarning: Maximum number of iterations reached\n",
      "  ConvergenceWarning)\n"
     ]
    }
   ],
   "source": [
    "# projection and inverse-projection by CCA\n",
    "from sklearn.cross_decomposition import CCA\n",
    "cca = CCA(n_components=16, scale=True)\n",
    "cca.fit(X, Z)\n",
    "Xc, Zc = cca.transform(X, Z)\n",
    "\n",
    "X_test_map, Z_test_map = cca.transform(X_test, Z_test)\n",
    "X_recovered_from_X = cca.inverse_transform(X_test_map)\n",
    "X_recovered_from_Z = cca.inverse_transform(Z_test_map)"
   ]
  },
  {
   "cell_type": "code",
   "execution_count": 11,
   "metadata": {
    "id": "GgSn3Bl7foV6"
   },
   "outputs": [
    {
     "data": {
      "image/png": "[encoded data removed]",
      "text/plain": [
       "<Figure size 1080x360 with 3 Axes>"
      ]
     },
     "metadata": {
      "needs_background": "light"
     },
     "output_type": "display_data"
    }
   ],
   "source": [
    "# plot 3 images\n",
    "X_test_image = X_test.reshape(6, 8)\n",
    "X_recovered_from_X_image = X_recovered_from_X.reshape(6, 8)\n",
    "X_recovered_from_Z_image = X_recovered_from_Z.reshape(6, 8)\n",
    "\n",
    "plt.figure(figsize=(15, 5))\n",
    "plt.subplot(1, 3, 1)\n",
    "plt.imshow(X_test_image)\n",
    "plt.title(\"Unprocessed image (upper part)\")\n",
    "\n",
    "plt.subplot(1, 3, 2)\n",
    "plt.imshow(X_recovered_from_X_image)\n",
    "plt.title(\"recovered_from_X\")\n",
    "\n",
    "plt.subplot(1, 3, 3)\n",
    "plt.imshow(X_recovered_from_Z_image)\n",
    "plt.title(\"recovered_from_Z\")\n",
    "\n",
    "plt.show()"
   ]
  },
  {
   "cell_type": "markdown",
   "metadata": {
    "id": "3dpLzzPohouO"
   },
   "source": [
    "上の3セルを実行すると三つの画像が出てくる。\n",
    "\n",
    "左から、それぞれ元の画像の上側、上側を変換・逆変換して上側を復元したもの、下側を変換・逆変換して上側を復元したものである。\n",
    "\n",
    "`image_index`や`n_components`を変更していくつかの例を試してみよう。\n",
    "CCAによって画像の上側と下側を関連付けることにより、画像の下側から上側をある程度の精度で復元することが可能になった。\n"
   ]
  },
  {
   "cell_type": "markdown",
   "metadata": {
    "id": "eVlcbJLMSiDX"
   },
   "source": [
    "## DS6.4 | 次元削減と分類予測手法の組み合わせ\n",
    "\n",
    "　次元削減の利用法の一つとして、高次元のデータを一旦次元削減し、それから別の機械学習手法を適用するというものがある。次元削減手法により、データをうまく表現する特徴量を抽出し、小さなデータセットでも汎用的なモデルを作成するのである。\n",
    "\n",
    "　ここでは、digitsデータセットのうち**500件のみを訓練データ**として、PCAを用いて低次元化を行って学習した場合に、予測精度がどのように変化するか確認する。\n",
    "\n"
   ]
  },
  {
   "cell_type": "code",
   "execution_count": 12,
   "metadata": {
    "id": "zkw4bkCqS_w5"
   },
   "outputs": [],
   "source": [
    "from sklearn import datasets\n",
    "d = datasets.load_digits()\n",
    "X = d.data\n",
    "y = d.target"
   ]
  },
  {
   "cell_type": "code",
   "execution_count": 13,
   "metadata": {
    "id": "KTSB1cUALYEN"
   },
   "outputs": [
    {
     "name": "stdout",
     "output_type": "stream",
     "text": [
      "[[ 0.  0.  5. ...  8.  1.  0.]\n",
      " [ 0.  0.  9. ...  7.  0.  0.]\n",
      " [ 0.  0.  0. ... 16.  4.  0.]\n",
      " ...\n",
      " [ 0.  0.  5. ...  0.  0.  0.]\n",
      " [ 0.  0.  4. ...  0.  0.  0.]\n",
      " [ 0.  0.  6. ... 11.  0.  0.]] [0 9 6 9 8 4 5 8 1 6 3 0 4 6 1 8 3 4 7 1 0 7 9 2 7 2 1 6 9 3 1 3 2 4 3 4 3\n",
      " 3 5 4 7 3 6 7 0 0 1 1 0 2 0 7 7 4 7 2 0 1 2 4 8 1 6 0 3 4 0 6 8 4 4 9 0 8\n",
      " 4 6 8 7 8 2 8 1 6 6 9 5 3 8 5 1 3 3 1 8 8 3 0 4 1 7 2 7 4 0 4 2 7 7 9 1 9\n",
      " 0 9 3 8 6 2 5 3 3 7 2 1 0 8 7 7 3 1 2 4 5 7 7 9 1 5 5 2 8 7 9 4 7 0 2 6 1\n",
      " 3 1 3 7 3 6 7 1 6 6 1 0 6 9 7 7 4 4 9 1 5 1 1 7 2 6 6 4 3 1 0 5 3 9 5 8 1\n",
      " 7 9 9 8 2 1 0 6 6 4 4 7 8 6 5 8 8 2 2 2 9 8 8 3 6 0 4 4 7 6 6 9 0 4 6 8 5\n",
      " 1 9 9 3 1 6 5 9 7 3 4 4 2 4 4 9 2 9 9 7 2 3 3 3 7 2 7 8 1 0 5 6 6 8 0 7 0\n",
      " 4 2 6 6 8 6 4 7 7 0 3 0 7 4 0 0 2 1 8 4 2 2 9 9 3 3 4 4 2 6 3 7 2 8 4 2 9\n",
      " 5 1 9 0 9 7 2 6 2 1 6 9 9 3 8 3 6 2 2 4 9 3 4 6 8 6 1 7 4 1 4 7 0 1 5 6 2\n",
      " 7 8 4 9 0 9 0 5 2 2 4 1 8 8 7 2 9 7 0 0 6 0 5 0 5 1 0 8 6 6 0 3 4 0 3 5 6\n",
      " 9 8 4 8 5 2 7 5 5 1 1 8 9 0 3 4 9 2 9 3 1 7 5 4 9 5 7 7 7 0 1 9 1 9 7 1 3\n",
      " 9 4 9 2 5 3 5 6 2 3 0 7 3 2 5 2 6 1 7 0 2 9 4 2 0 7 4 4 9 0 4 9 6 8 2 6 4\n",
      " 4 9 1 2 4 7 8 8 2 2 5 9 5 4 3 1 4 7 1 5 3 8 6 5 5 2 1 0 9 1 6 9 3 7 4 5 6\n",
      " 3 6 5 2 7 6 3 4 1 1 4 8 4 5 3 3 7 7 8]\n"
     ]
    }
   ],
   "source": [
    "from sklearn.model_selection import train_test_split\n",
    "\n",
    "# これまでと異なり、train_test_split() を使ってデータを分割しておく\n",
    "# 引数 train_size に実数値ではなく整数値を与えると、\n",
    "# その数のデータだけを訓練データに、残りはテストデータにする\n",
    "X_train, X_test, y_train, y_test = train_test_split(X, y, train_size=500, random_state=0) \n",
    "\n",
    "print(X_train, y_train)"
   ]
  },
  {
   "cell_type": "markdown",
   "metadata": {
    "id": "lwQveFDGMByS"
   },
   "source": [
    "　それでは、まず `X_train` だけを使ってPCAの構築を行う。その後の機械学習のためのPCAの場合には、 `n_components` の値は可視化に比べると大き目の値に設定することが多い。"
   ]
  },
  {
   "cell_type": "code",
   "execution_count": 14,
   "metadata": {
    "id": "bXw07J4PMM0O"
   },
   "outputs": [
    {
     "data": {
      "text/plain": [
       "PCA(n_components=10)"
      ]
     },
     "execution_count": 14,
     "metadata": {},
     "output_type": "execute_result"
    }
   ],
   "source": [
    "from sklearn.decomposition import PCA\n",
    "\n",
    "pca = PCA(n_components=10)\n",
    "pca.fit(X_train) "
   ]
  },
  {
   "cell_type": "markdown",
   "metadata": {
    "id": "5mFpqaT3O2VK"
   },
   "source": [
    "　続いて、 `X_train`、`X_test` それぞれをPCAで次元削減する。"
   ]
  },
  {
   "cell_type": "code",
   "execution_count": 15,
   "metadata": {
    "id": "am2WdjnYO9bK"
   },
   "outputs": [],
   "source": [
    "new_X_train = pca.transform(X_train)\n",
    "new_X_test  = pca.transform(X_test)"
   ]
  },
  {
   "cell_type": "markdown",
   "metadata": {
    "id": "7UTiK5fMPDlS"
   },
   "source": [
    "　ここまでくれば、後は通常の機械学習と同様である。ここでは深さなどを特に制限しない決定木を用いることにしてみよう。"
   ]
  },
  {
   "cell_type": "code",
   "execution_count": 16,
   "metadata": {
    "id": "klQI0AFZPNFu"
   },
   "outputs": [
    {
     "name": "stdout",
     "output_type": "stream",
     "text": [
      "0.7987663839629915\n"
     ]
    }
   ],
   "source": [
    "from sklearn.tree import DecisionTreeClassifier\n",
    "\n",
    "# training\n",
    "dt = DecisionTreeClassifier(random_state=0)\n",
    "dt.fit(new_X_train, y_train)\n",
    "\n",
    "# prediction \n",
    "y_pred = dt.predict(new_X_test)\n",
    "\n",
    "# evaluation\n",
    "accuracy = (y_pred == y_test).mean()\n",
    "print(accuracy)"
   ]
  },
  {
   "cell_type": "markdown",
   "metadata": {
    "id": "6-soI0cDUX8U"
   },
   "source": [
    "　なお、この PCA -> 決定木 という流れも、基盤AI演習で学んだ `make_pipeline()` を使うことができる。同一の正解率が得られることを確認せよ。"
   ]
  },
  {
   "cell_type": "code",
   "execution_count": 17,
   "metadata": {
    "id": "kMt1WWAaUsLe"
   },
   "outputs": [
    {
     "name": "stdout",
     "output_type": "stream",
     "text": [
      "0.7987663839629915\n"
     ]
    }
   ],
   "source": [
    "from sklearn.pipeline import make_pipeline\n",
    "\n",
    "# training\n",
    "pca_dt = make_pipeline(\n",
    "  PCA(n_components=10), \n",
    "  DecisionTreeClassifier(random_state=0)\n",
    ")\n",
    "\n",
    "pca_dt.fit(X_train, y_train)\n",
    "\n",
    "# prediction \n",
    "y_pred = pca_dt.predict(X_test)\n",
    "\n",
    "# evaluation\n",
    "accuracy = (y_pred == y_test).mean()\n",
    "print(accuracy)"
   ]
  },
  {
   "cell_type": "markdown",
   "metadata": {
    "id": "suyGjhExQEoS"
   },
   "source": [
    "　最後に、次元削減を行わなかった場合のテストデータの正解率と比較してみよう。"
   ]
  },
  {
   "cell_type": "code",
   "execution_count": 18,
   "metadata": {
    "id": "6U8hLkf3QC6S"
   },
   "outputs": [
    {
     "name": "stdout",
     "output_type": "stream",
     "text": [
      "0.7717810331534309\n"
     ]
    }
   ],
   "source": [
    "# training\n",
    "dt = DecisionTreeClassifier(random_state=0)\n",
    "dt.fit(X_train, y_train)\n",
    "\n",
    "# prediction\n",
    "y_pred = dt.predict(X_test)\n",
    "\n",
    "# evaluation\n",
    "accuracy = (y_pred == y_test).mean()\n",
    "print(accuracy)"
   ]
  },
  {
   "cell_type": "markdown",
   "metadata": {
    "id": "sNis92rWQzas"
   },
   "source": [
    "　わずかではあるが、次元削減によってテストデータに対する正解率が向上したことが確認できた。"
   ]
  },
  {
   "cell_type": "markdown",
   "metadata": {
    "id": "Uzq9uLFTGMB-"
   },
   "source": [
    "------\n",
    "\n",
    "##### 課題 DS6.4\n",
    "　`n_components` の数を1から10まで変動させ、次元削減を行わなかった場合に比べてテストデータの予測精度が向上する `n_components` を列挙せよ（決定木には上記のコードと同様に `random_state=0` を指定すること）。\n"
   ]
  },
  {
   "cell_type": "markdown",
   "metadata": {
    "id": "o4nw-yLpOaQJ"
   },
   "source": [
    "---\n",
    "##### 課題 DS6.5\n",
    "　課題 DS6.4の結果について、なぜこのような結果になったと考えられるか、「PCAの累積寄与率」「過学習」「バイアスとバリアンス」「モデルの複雑さ」などの単語を適宜利用して考察せよ。必要に応じて、決定木の深さを制限するなどして追加の実験を行っても良い。"
   ]
  },
  {
   "cell_type": "markdown",
   "metadata": {
    "id": "37DMY818jzZy"
   },
   "source": [
    "---\n",
    "# レポート提出について\n",
    "\n"
   ]
  },
  {
   "cell_type": "markdown",
   "metadata": {
    "id": "rLzUiGyLXOdo"
   },
   "source": [
    "## レポートの提出方法\n",
    "\n",
    "　レポートは**答案テンプレートを用い**、**1つのファイル（.doc, .docx, .pdf）**にまとめ、**学籍番号と氏名を確認の上**、**次回 基盤データサイエンス演習 の開始時刻までに東工大ポータルのOCW-iから提出**すること。\n",
    "ファイルのアップロード後、OCW-iで「提出済」というアイコンが表示されていることを必ず確認すること。それ以外の場合は未提出扱いとなるので十分注意すること。\n",
    "また、締め切りを過ぎるとファイルの提出ができないため、時間に余裕を持って提出を行うこと。"
   ]
  },
  {
   "cell_type": "markdown",
   "metadata": {
    "id": "2z6NkAX-3IQG"
   },
   "source": [
    "## 答案テンプレート\n",
    "\n",
    "```\n",
    "学籍番号:\n",
    "名前:\n",
    "\n",
    "課題 DS6.1\n",
    "[ A ]: \n",
    "[ B ]:  \n",
    "\n",
    "課題 DS6.2\n",
    "（解答を記述せよ）\n",
    "\n",
    "課題 DS6.3\n",
    "相関係数：\n",
    "\n",
    "課題 DS6.4\n",
    "（解答を記述せよ）\n",
    "\n",
    "課題 DS6.5\n",
    "（解答を記述せよ）\n",
    "```"
   ]
  }
 ],
 "metadata": {
  "colab": {
   "collapsed_sections": [],
   "name": "DS6_Dimensionality_Reduction.ipynb",
   "provenance": []
  },
  "kernelspec": {
   "display_name": "Python 3",
   "language": "python",
   "name": "python3"
  },
  "language_info": {
   "codemirror_mode": {
    "name": "ipython",
    "version": 3
   },
   "file_extension": ".py",
   "mimetype": "text/x-python",
   "name": "python",
   "nbconvert_exporter": "python",
   "pygments_lexer": "ipython3",
   "version": "3.7.9"
  }
 },
 "nbformat": 4,
 "nbformat_minor": 4
}
