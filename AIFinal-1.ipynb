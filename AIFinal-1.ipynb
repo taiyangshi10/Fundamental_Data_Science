{
 "cells": [
  {
   "cell_type": "code",
   "execution_count": 23,
   "id": "gross-briefing",
   "metadata": {},
   "outputs": [
    {
     "name": "stdout",
     "output_type": "stream",
     "text": [
      "   Species_No  Petal_width  Petal_length  Sepal_width  Sepal_length  \\\n",
      "0           1          0.2           1.4          3.5           5.1   \n",
      "1           1          0.2           1.4          3.0           4.9   \n",
      "2           1          0.2           1.3          3.2           4.7   \n",
      "3           1          0.2           1.5          3.1           4.6   \n",
      "4           1          0.2           1.4          3.6           5.0   \n",
      "\n",
      "  Species_name  \n",
      "0       Setosa  \n",
      "1       Setosa  \n",
      "2       Setosa  \n",
      "3       Setosa  \n",
      "4       Setosa  \n"
     ]
    }
   ],
   "source": [
    "import numpy as np\n",
    "import pandas as pd\n",
    "df = pd.read_csv(\"Iris.csv\")\n",
    "pd.set_option(\"display.max_columns\", None) # 全ての列を表示するための設定\n",
    "print(df.head())                           # 最初の5データのみを表示する"
   ]
  },
  {
   "cell_type": "code",
   "execution_count": 24,
   "id": "naked-royal",
   "metadata": {},
   "outputs": [
    {
     "data": {
      "text/html": [
       "<div>\n",
       "<style scoped>\n",
       "    .dataframe tbody tr th:only-of-type {\n",
       "        vertical-align: middle;\n",
       "    }\n",
       "\n",
       "    .dataframe tbody tr th {\n",
       "        vertical-align: top;\n",
       "    }\n",
       "\n",
       "    .dataframe thead th {\n",
       "        text-align: right;\n",
       "    }\n",
       "</style>\n",
       "<table border=\"1\" class=\"dataframe\">\n",
       "  <thead>\n",
       "    <tr style=\"text-align: right;\">\n",
       "      <th></th>\n",
       "      <th>Petal_width</th>\n",
       "      <th>Petal_length</th>\n",
       "      <th>Sepal_width</th>\n",
       "      <th>Sepal_length</th>\n",
       "    </tr>\n",
       "  </thead>\n",
       "  <tbody>\n",
       "    <tr>\n",
       "      <th>0</th>\n",
       "      <td>0.2</td>\n",
       "      <td>1.4</td>\n",
       "      <td>3.5</td>\n",
       "      <td>5.1</td>\n",
       "    </tr>\n",
       "    <tr>\n",
       "      <th>1</th>\n",
       "      <td>0.2</td>\n",
       "      <td>1.4</td>\n",
       "      <td>3.0</td>\n",
       "      <td>4.9</td>\n",
       "    </tr>\n",
       "    <tr>\n",
       "      <th>2</th>\n",
       "      <td>0.2</td>\n",
       "      <td>1.3</td>\n",
       "      <td>3.2</td>\n",
       "      <td>4.7</td>\n",
       "    </tr>\n",
       "    <tr>\n",
       "      <th>3</th>\n",
       "      <td>0.2</td>\n",
       "      <td>1.5</td>\n",
       "      <td>3.1</td>\n",
       "      <td>4.6</td>\n",
       "    </tr>\n",
       "    <tr>\n",
       "      <th>4</th>\n",
       "      <td>0.2</td>\n",
       "      <td>1.4</td>\n",
       "      <td>3.6</td>\n",
       "      <td>5.0</td>\n",
       "    </tr>\n",
       "  </tbody>\n",
       "</table>\n",
       "</div>"
      ],
      "text/plain": [
       "   Petal_width  Petal_length  Sepal_width  Sepal_length\n",
       "0          0.2           1.4          3.5           5.1\n",
       "1          0.2           1.4          3.0           4.9\n",
       "2          0.2           1.3          3.2           4.7\n",
       "3          0.2           1.5          3.1           4.6\n",
       "4          0.2           1.4          3.6           5.0"
      ]
     },
     "execution_count": 24,
     "metadata": {},
     "output_type": "execute_result"
    }
   ],
   "source": [
    "X = df[['Petal_width','Petal_length','Sepal_width','Sepal_length']].copy()\n",
    "X.head(5)"
   ]
  },
  {
   "cell_type": "code",
   "execution_count": 25,
   "id": "professional-royal",
   "metadata": {},
   "outputs": [
    {
     "data": {
      "text/plain": [
       "0    1\n",
       "1    1\n",
       "2    1\n",
       "3    1\n",
       "4    1\n",
       "Name: Species_No, dtype: int64"
      ]
     },
     "execution_count": 25,
     "metadata": {},
     "output_type": "execute_result"
    }
   ],
   "source": [
    "Y = df['Species_No'].copy()\n",
    "Y.head(5)"
   ]
  },
  {
   "cell_type": "code",
   "execution_count": 26,
   "id": "removable-nirvana",
   "metadata": {},
   "outputs": [
    {
     "data": {
      "text/plain": [
       "[]"
      ]
     },
     "execution_count": 26,
     "metadata": {},
     "output_type": "execute_result"
    },
    {
     "data": {
      "image/png": "[encoded data removed]",
      "text/plain": [
       "<Figure size 432x288 with 1 Axes>"
      ]
     },
     "metadata": {
      "needs_background": "light"
     },
     "output_type": "display_data"
    }
   ],
   "source": [
    "import matplotlib.pyplot as plt \n",
    "X[\"Petal_length\"].hist()\n",
    "plt.plot()"
   ]
  },
  {
   "cell_type": "code",
   "execution_count": 27,
   "id": "internal-helping",
   "metadata": {},
   "outputs": [
    {
     "name": "stdout",
     "output_type": "stream",
     "text": [
      "       Petal_width  Petal_length  Sepal_width  Sepal_length\n",
      "count   150.000000    150.000000   150.000000    150.000000\n",
      "mean      1.199333      3.758000     3.057333      5.843333\n",
      "std       0.762238      1.765298     0.435866      0.828066\n",
      "min       0.100000      1.000000     2.000000      4.300000\n",
      "25%       0.300000      1.600000     2.800000      5.100000\n",
      "50%       1.300000      4.350000     3.000000      5.800000\n",
      "75%       1.800000      5.100000     3.300000      6.400000\n",
      "max       2.500000      6.900000     4.400000      7.900000\n"
     ]
    }
   ],
   "source": [
    "print(X.describe())"
   ]
  },
  {
   "cell_type": "code",
   "execution_count": 28,
   "id": "potential-fifth",
   "metadata": {},
   "outputs": [
    {
     "name": "stdout",
     "output_type": "stream",
     "text": [
      "0      False\n",
      "1      False\n",
      "2      False\n",
      "3      False\n",
      "4      False\n",
      "       ...  \n",
      "145    False\n",
      "146    False\n",
      "147    False\n",
      "148    False\n",
      "149    False\n",
      "Name: Petal_length, Length: 150, dtype: bool\n"
     ]
    }
   ],
   "source": [
    "print(X[\"Petal_length\"].isna())"
   ]
  },
  {
   "cell_type": "code",
   "execution_count": 29,
   "id": "excess-bridal",
   "metadata": {},
   "outputs": [],
   "source": [
    "from sklearn.model_selection import train_test_split\n",
    "X_train, X_test, Y_train, Y_test = train_test_split(X,Y,\n",
    "                                                    test_size=0.2, random_state=0)"
   ]
  },
  {
   "cell_type": "code",
   "execution_count": 30,
   "id": "phantom-montana",
   "metadata": {},
   "outputs": [],
   "source": [
    "from sklearn.tree import DecisionTreeClassifier "
   ]
  },
  {
   "cell_type": "code",
   "execution_count": 31,
   "id": "surrounded-logging",
   "metadata": {},
   "outputs": [],
   "source": [
    "model_full = DecisionTreeClassifier(random_state=0) "
   ]
  },
  {
   "cell_type": "code",
   "execution_count": 32,
   "id": "faced-mother",
   "metadata": {},
   "outputs": [
    {
     "data": {
      "text/plain": [
       "DecisionTreeClassifier(random_state=0)"
      ]
     },
     "execution_count": 32,
     "metadata": {},
     "output_type": "execute_result"
    }
   ],
   "source": [
    "model_full.fit(X_train, Y_train)"
   ]
  },
  {
   "cell_type": "code",
   "execution_count": 41,
   "id": "wicked-movement",
   "metadata": {},
   "outputs": [
    {
     "data": {
      "text/html": [
       "<div>\n",
       "<style scoped>\n",
       "    .dataframe tbody tr th:only-of-type {\n",
       "        vertical-align: middle;\n",
       "    }\n",
       "\n",
       "    .dataframe tbody tr th {\n",
       "        vertical-align: top;\n",
       "    }\n",
       "\n",
       "    .dataframe thead th {\n",
       "        text-align: right;\n",
       "    }\n",
       "</style>\n",
       "<table border=\"1\" class=\"dataframe\">\n",
       "  <thead>\n",
       "    <tr style=\"text-align: right;\">\n",
       "      <th></th>\n",
       "      <th>Petal_width</th>\n",
       "      <th>Petal_length</th>\n",
       "      <th>Sepal_width</th>\n",
       "      <th>Sepal_length</th>\n",
       "    </tr>\n",
       "  </thead>\n",
       "  <tbody>\n",
       "    <tr>\n",
       "      <th>count</th>\n",
       "      <td>120.000000</td>\n",
       "      <td>120.000000</td>\n",
       "      <td>120.000000</td>\n",
       "      <td>120.000000</td>\n",
       "    </tr>\n",
       "    <tr>\n",
       "      <th>mean</th>\n",
       "      <td>1.231667</td>\n",
       "      <td>3.815833</td>\n",
       "      <td>3.053333</td>\n",
       "      <td>5.880833</td>\n",
       "    </tr>\n",
       "    <tr>\n",
       "      <th>std</th>\n",
       "      <td>0.775354</td>\n",
       "      <td>1.784904</td>\n",
       "      <td>0.431907</td>\n",
       "      <td>0.850437</td>\n",
       "    </tr>\n",
       "    <tr>\n",
       "      <th>min</th>\n",
       "      <td>0.100000</td>\n",
       "      <td>1.100000</td>\n",
       "      <td>2.000000</td>\n",
       "      <td>4.300000</td>\n",
       "    </tr>\n",
       "    <tr>\n",
       "      <th>25%</th>\n",
       "      <td>0.300000</td>\n",
       "      <td>1.600000</td>\n",
       "      <td>2.800000</td>\n",
       "      <td>5.100000</td>\n",
       "    </tr>\n",
       "    <tr>\n",
       "      <th>50%</th>\n",
       "      <td>1.300000</td>\n",
       "      <td>4.350000</td>\n",
       "      <td>3.000000</td>\n",
       "      <td>5.800000</td>\n",
       "    </tr>\n",
       "    <tr>\n",
       "      <th>75%</th>\n",
       "      <td>1.900000</td>\n",
       "      <td>5.200000</td>\n",
       "      <td>3.300000</td>\n",
       "      <td>6.500000</td>\n",
       "    </tr>\n",
       "    <tr>\n",
       "      <th>max</th>\n",
       "      <td>2.500000</td>\n",
       "      <td>6.900000</td>\n",
       "      <td>4.400000</td>\n",
       "      <td>7.900000</td>\n",
       "    </tr>\n",
       "  </tbody>\n",
       "</table>\n",
       "</div>"
      ],
      "text/plain": [
       "       Petal_width  Petal_length  Sepal_width  Sepal_length\n",
       "count   120.000000    120.000000   120.000000    120.000000\n",
       "mean      1.231667      3.815833     3.053333      5.880833\n",
       "std       0.775354      1.784904     0.431907      0.850437\n",
       "min       0.100000      1.100000     2.000000      4.300000\n",
       "25%       0.300000      1.600000     2.800000      5.100000\n",
       "50%       1.300000      4.350000     3.000000      5.800000\n",
       "75%       1.900000      5.200000     3.300000      6.500000\n",
       "max       2.500000      6.900000     4.400000      7.900000"
      ]
     },
     "execution_count": 41,
     "metadata": {},
     "output_type": "execute_result"
    }
   ],
   "source": [
    "X_train.describe()"
   ]
  },
  {
   "cell_type": "code",
   "execution_count": 40,
   "id": "irish-importance",
   "metadata": {},
   "outputs": [
    {
     "data": {
      "text/html": [
       "<div>\n",
       "<style scoped>\n",
       "    .dataframe tbody tr th:only-of-type {\n",
       "        vertical-align: middle;\n",
       "    }\n",
       "\n",
       "    .dataframe tbody tr th {\n",
       "        vertical-align: top;\n",
       "    }\n",
       "\n",
       "    .dataframe thead th {\n",
       "        text-align: right;\n",
       "    }\n",
       "</style>\n",
       "<table border=\"1\" class=\"dataframe\">\n",
       "  <thead>\n",
       "    <tr style=\"text-align: right;\">\n",
       "      <th></th>\n",
       "      <th>Petal_width</th>\n",
       "      <th>Petal_length</th>\n",
       "      <th>Sepal_width</th>\n",
       "      <th>Sepal_length</th>\n",
       "    </tr>\n",
       "  </thead>\n",
       "  <tbody>\n",
       "    <tr>\n",
       "      <th>count</th>\n",
       "      <td>30.000000</td>\n",
       "      <td>30.000000</td>\n",
       "      <td>30.000000</td>\n",
       "      <td>30.000000</td>\n",
       "    </tr>\n",
       "    <tr>\n",
       "      <th>mean</th>\n",
       "      <td>1.070000</td>\n",
       "      <td>3.526667</td>\n",
       "      <td>3.073333</td>\n",
       "      <td>5.693333</td>\n",
       "    </tr>\n",
       "    <tr>\n",
       "      <th>std</th>\n",
       "      <td>0.704738</td>\n",
       "      <td>1.693789</td>\n",
       "      <td>0.458584</td>\n",
       "      <td>0.725370</td>\n",
       "    </tr>\n",
       "    <tr>\n",
       "      <th>min</th>\n",
       "      <td>0.100000</td>\n",
       "      <td>1.000000</td>\n",
       "      <td>2.200000</td>\n",
       "      <td>4.400000</td>\n",
       "    </tr>\n",
       "    <tr>\n",
       "      <th>25%</th>\n",
       "      <td>0.325000</td>\n",
       "      <td>1.525000</td>\n",
       "      <td>2.800000</td>\n",
       "      <td>5.000000</td>\n",
       "    </tr>\n",
       "    <tr>\n",
       "      <th>50%</th>\n",
       "      <td>1.250000</td>\n",
       "      <td>4.350000</td>\n",
       "      <td>2.900000</td>\n",
       "      <td>5.700000</td>\n",
       "    </tr>\n",
       "    <tr>\n",
       "      <th>75%</th>\n",
       "      <td>1.500000</td>\n",
       "      <td>4.700000</td>\n",
       "      <td>3.400000</td>\n",
       "      <td>6.175000</td>\n",
       "    </tr>\n",
       "    <tr>\n",
       "      <th>max</th>\n",
       "      <td>2.500000</td>\n",
       "      <td>6.300000</td>\n",
       "      <td>4.200000</td>\n",
       "      <td>7.300000</td>\n",
       "    </tr>\n",
       "  </tbody>\n",
       "</table>\n",
       "</div>"
      ],
      "text/plain": [
       "       Petal_width  Petal_length  Sepal_width  Sepal_length\n",
       "count    30.000000     30.000000    30.000000     30.000000\n",
       "mean      1.070000      3.526667     3.073333      5.693333\n",
       "std       0.704738      1.693789     0.458584      0.725370\n",
       "min       0.100000      1.000000     2.200000      4.400000\n",
       "25%       0.325000      1.525000     2.800000      5.000000\n",
       "50%       1.250000      4.350000     2.900000      5.700000\n",
       "75%       1.500000      4.700000     3.400000      6.175000\n",
       "max       2.500000      6.300000     4.200000      7.300000"
      ]
     },
     "execution_count": 40,
     "metadata": {},
     "output_type": "execute_result"
    }
   ],
   "source": [
    "X_test.describe()"
   ]
  },
  {
   "cell_type": "code",
   "execution_count": 33,
   "id": "arabic-station",
   "metadata": {},
   "outputs": [
    {
     "name": "stdout",
     "output_type": "stream",
     "text": [
      "[3 2 1 3 3 2 1 2 2 2 3 1 3 1 1 2 3 3 3 3 2 3 2 2 3 3 3 3 2 3 2 1 3 2 2 2 2\n",
      " 3 1 1 3 2 1 1 2 1 3 2 1 2 3 2 1 3 3 3 3 1 1 3 3 1 3 1 3 3 1 1 3 1 1 1 2 3\n",
      " 3 1 1 1 2 2 1 1 2 1 3 2 3 2 1 3 1 3 1 1 3 1 3 2 2 2 3 3 2 2 1 2 3 3 1 2 2\n",
      " 2 2 1 1 1 3 2 3 1]\n"
     ]
    }
   ],
   "source": [
    "pred_Y_train = model_full.predict(X_train)\n",
    "print(pred_Y_train)"
   ]
  },
  {
   "cell_type": "code",
   "execution_count": 34,
   "id": "earlier-charles",
   "metadata": {},
   "outputs": [
    {
     "name": "stdout",
     "output_type": "stream",
     "text": [
      "137    True\n",
      "84     True\n",
      "27     True\n",
      "127    True\n",
      "132    True\n",
      "       ... \n",
      "9      True\n",
      "103    True\n",
      "67     True\n",
      "117    True\n",
      "47     True\n",
      "Name: Species_No, Length: 120, dtype: bool\n"
     ]
    }
   ],
   "source": [
    "prediction_result = ( pred_Y_train == Y_train)\n",
    "print(prediction_result)"
   ]
  },
  {
   "cell_type": "code",
   "execution_count": 36,
   "id": "modified-child",
   "metadata": {},
   "outputs": [
    {
     "data": {
      "text/plain": [
       "1.0"
      ]
     },
     "execution_count": 36,
     "metadata": {},
     "output_type": "execute_result"
    }
   ],
   "source": [
    "np.mean(prediction_result)"
   ]
  },
  {
   "cell_type": "code",
   "execution_count": 35,
   "id": "commercial-first",
   "metadata": {},
   "outputs": [
    {
     "name": "stdout",
     "output_type": "stream",
     "text": [
      "100.0 %\n"
     ]
    }
   ],
   "source": [
    "pred_Y_test = model_full.predict(X_test)\n",
    "prediction_result_test = (pred_Y_test == Y_test)\n",
    "accuracy_test = np.mean(prediction_result_test)\n",
    "print(\"%.1f\" % (accuracy_test*100),'%')"
   ]
  },
  {
   "cell_type": "code",
   "execution_count": 48,
   "id": "natural-layout",
   "metadata": {},
   "outputs": [
    {
     "name": "stdout",
     "output_type": "stream",
     "text": [
      "Train_accuracy:\t 100.0 %\n",
      "Test_accuracy:\t 100.0 %\n"
     ]
    }
   ],
   "source": [
    "import numpy as np\n",
    "import pandas as pd\n",
    "from sklearn.model_selection import train_test_split\n",
    "from sklearn.tree import DecisionTreeClassifier \n",
    "\n",
    "df = pd.read_csv(\"Iris.csv\")\n",
    "X = df[['Petal_width','Petal_length','Sepal_width','Sepal_length']].copy()\n",
    "Y = df['Species_No'].copy()\n",
    "X_train, X_test, Y_train, Y_test = train_test_split(X,Y,\n",
    "                                                    test_size=0.2, random_state=0)\n",
    "model = DecisionTreeClassifier(random_state=0) \n",
    "model.fit(X_train, Y_train)\n",
    "pred_Y_train = model.predict(X_train)\n",
    "#print('pred_Y_train:\\t', pred_Y_train)\n",
    "prediction_result = ( pred_Y_train == Y_train)\n",
    "#print('prediction_result:\\t', prediction_result)\n",
    "print('Train_accuracy:\\t', '%.1f' % (np.mean(prediction_result)*100), '%')\n",
    "\n",
    "pred_Y_test = model.predict(X_test)\n",
    "prediction_result_test = (pred_Y_test == Y_test)\n",
    "accuracy_test = np.mean(prediction_result_test)\n",
    "print('Test_accuracy:\\t', \"%.1f\" % (accuracy_test*100),'%')"
   ]
  },
  {
   "cell_type": "code",
   "execution_count": null,
   "id": "terminal-start",
   "metadata": {},
   "outputs": [],
   "source": []
  }
 ],
 "metadata": {
  "kernelspec": {
   "display_name": "Python 3",
   "language": "python",
   "name": "python3"
  },
  "language_info": {
   "codemirror_mode": {
    "name": "ipython",
    "version": 3
   },
   "file_extension": ".py",
   "mimetype": "text/x-python",
   "name": "python",
   "nbconvert_exporter": "python",
   "pygments_lexer": "ipython3",
   "version": "3.7.9"
  }
 },
 "nbformat": 4,
 "nbformat_minor": 5
}
