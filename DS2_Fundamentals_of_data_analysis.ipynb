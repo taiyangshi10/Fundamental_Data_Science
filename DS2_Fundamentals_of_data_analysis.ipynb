{
 "cells": [
  {
   "cell_type": "markdown",
   "metadata": {
    "id": "KrxvGFtzTYZf"
   },
   "source": [
    "# 基盤データサイエンス演習 第2回\n",
    "\n",
    "※本演習資料の二次配布・再配布はお断り致します。"
   ]
  },
  {
   "cell_type": "markdown",
   "metadata": {
    "id": "iyGo64Tcqx99"
   },
   "source": [
    "　本日は以下の演習を行う。\n",
    "\n",
    "**DS2.1 | 記述統計と推測統計**\n",
    "\n",
    "**DS2.2 | matplotlibを利用した図の描画**\n",
    "\n",
    "　なお、課題提出のフォーマットが本資料の最後に添付されているので、課題提出の際はそれを利用せよ。"
   ]
  },
  {
   "cell_type": "markdown",
   "metadata": {
    "id": "Zrb7Q8ugcbqA"
   },
   "source": [
    "## DS2.1 | 記述統計と推測統計\n",
    "\n",
    "\n",
    "　基盤データサイエンスの講義で、**記述統計 (descriptive statistics) と推測統計 (inferential statistics)** について学び、その中で**標本平均 (sample mean) は不偏推定量 (unbiased estimator) である**一方、**標本分散は不偏推定量ではない**ことを学んだ。\n",
    "\n",
    "　この節では、**記述統計 (descriptive statistics) ：実際のデータを利用した統計量（標本平均・標本分散）の算出**および、**推測統計 (inferential statistics) ：標本平均・標本分散と母平均・母分散の関係の確認**を行う。\n"
   ]
  },
  {
   "cell_type": "markdown",
   "metadata": {
    "id": "pPC8quyKO6Gy"
   },
   "source": [
    "### DS2.1.0 | 用語解説\n",
    "\n",
    "　今回は統計の単語を多数利用するので、以下の課題実行の前に少し整理する。\n",
    "\n",
    "* **母集団 (population)** ：調査対象となる数値、属性等の源泉となる集合全体。確率分布として表現されることが多い。\n",
    "* **母平均 (population mean)** ：母集団に対する平均。連続確率変数の場合、密度関数$f(x)$に対して、$\\mu=\\int xf(x)dx$で定義される。離散確率変数の場合も同様。\n",
    "* **サンプル (sample)** ：（母集団から取り出した）具体的なデータセット。\n",
    "* **標本平均 (sample mean)** ：具体的なデータセットに対して求めた算術（相加）平均。\n",
    "* **統計量 (statistic)** ：データセットの特徴を要約した数値。平均や分散は統計量の代表的な例。\n",
    "* **推定量 (estimator)** ：具体的なデータセットにもとづいて、母集団のパラメータを推定した量。\n",
    "* **不偏推定量 (unbiased estimator)** ：データ生成に関する期待値が母集団を表す真のパラメータと一致することが保証された推定量。\n",
    "\n",
    "なお、上記の説明における **データセット** とは、観測されたデータの集合 (List of observed data) であり、複数のデータからなる表形式のものである。 \n",
    " \n"
   ]
  },
  {
   "cell_type": "markdown",
   "metadata": {
    "id": "KyVmzV54I7zM"
   },
   "source": [
    "### DS2.1.1 | データセットの準備"
   ]
  },
  {
   "cell_type": "markdown",
   "metadata": {
    "id": "ZfZjzc5Of5r_"
   },
   "source": [
    "#### CSVファイル（`DS2_iris.csv`）をダウンロードし、内容を確かめる"
   ]
  },
  {
   "cell_type": "markdown",
   "metadata": {
    "id": "5Bnic37yf99D"
   },
   "source": [
    "　今回用いる `DS2_iris.csv` データはサンプルサイズが150件となっており、十分目視が可能なデータであるため、記述統計の統計量を算出する前に、今回用いるサンプル（データ）の内容を確認する。\n",
    "\n",
    "　まず、ipynbファイルと一緒にOCW-iからダウンロードした `DS2_iris.csv` をExcelで目視してみよう。（もしExcelが使えない場合は、 `DS2_iris.csv` をGoogle Colabにアップロードし、アップロードしたファイルをダブルクリックすることで、ファイルの中身を見ることができる。）\n",
    "\n",
    "\n",
    "　`DS2_iris.csv` をExcelで閲覧すると（**図2.1**）、データはそれぞれ4つの値と1つの名前から構成されていることがまず最初にわかる。\n",
    "このサンプルをさらに細かく眺めると、例えば以下のようなことがわかる。\n",
    "\n",
    "* NameはIris-setosa, Iris-versicolor, Iris-virginicaの3種類で、それぞれ50件ずつ存在している。\n",
    "* PetalWidthに着目してみると、Iris-setosaは必ず1未満だが、その他の2種類は必ず1以上の値になっている。\n",
    "* 同様に、PetalLengthもIris-setosaだけ値が小さめになっている。\n",
    "* さらにPetalWidthについてよく見てみると、Iris-versicolorよりもIris-virginicaの方が値が高めになっている。\n",
    "\n",
    "これらのことを目視で感じたら、次の節に進み、pythonを使って実際に確認してみよう。\n",
    "\n",
    "--------------------\n",
    "\n",
    "![iris.csvの中身](https://i.imgur.com/ElYyxgN.png)\n",
    "\n",
    "**図2.1 |** DS2_iris.csvの中身\n"
   ]
  },
  {
   "cell_type": "markdown",
   "metadata": {
    "id": "LjGMXDUYltTm"
   },
   "source": [
    "### DS2.1.1 | 記述統計：実際のデータを利用した統計量の算出\n"
   ]
  },
  {
   "cell_type": "markdown",
   "metadata": {
    "id": "gtIVSRjgTDCk"
   },
   "source": [
    "#### `pandas`を利用したファイルの読み込みと記述統計量の算出"
   ]
  },
  {
   "cell_type": "markdown",
   "metadata": {
    "id": "JvXgpbfkgOPq"
   },
   "source": [
    "　それでは、先ほどExcelを使って目視したファイルをPythonから読み込んでみよう。\n",
    "まず、CSVファイル (`DS2_iris.csv`) をGoogle Colaboratory上にアップロードせよ（アップロード方法はGoogle Colaboratoryの使い方説明資料に記載されている）。\n",
    "\n",
    "　つづいて、PythonからCSVファイルを読み込む。CSVファイルの読み込みには、pythonの `pandas` ライブラリを利用する。 \n",
    "`pandas` は**表形式のサンプルを処理するのに頻出するライブラリ**なので確実に覚えておこう。"
   ]
  },
  {
   "cell_type": "code",
   "execution_count": 8,
   "metadata": {
    "id": "xX_SdwjYw3qf"
   },
   "outputs": [],
   "source": [
    "import pandas as pd            "
   ]
  },
  {
   "cell_type": "code",
   "execution_count": 9,
   "metadata": {
    "id": "p3MmAj18TTWO"
   },
   "outputs": [
    {
     "name": "stdout",
     "output_type": "stream",
     "text": [
      "     SepalLength  SepalWidth  PetalLength  PetalWidth            Name\n",
      "0            5.1         3.5          1.4         0.2     Iris-setosa\n",
      "1            4.9         3.0          1.4         0.2     Iris-setosa\n",
      "2            4.7         3.2          1.3         0.2     Iris-setosa\n",
      "3            4.6         3.1          1.5         0.2     Iris-setosa\n",
      "4            5.0         3.6          1.4         0.2     Iris-setosa\n",
      "..           ...         ...          ...         ...             ...\n",
      "145          6.7         3.0          5.2         2.3  Iris-virginica\n",
      "146          6.3         2.5          5.0         1.9  Iris-virginica\n",
      "147          6.5         3.0          5.2         2.0  Iris-virginica\n",
      "148          6.2         3.4          5.4         2.3  Iris-virginica\n",
      "149          5.9         3.0          5.1         1.8  Iris-virginica\n",
      "\n",
      "[150 rows x 5 columns]\n"
     ]
    }
   ],
   "source": [
    "df = pd.read_csv(\"DS2_iris.csv\")   # CSVファイルを読み込み、dfという名前を付ける\n",
    "print(df)                          # 読み込んだサンプル（データセット）を表示させてみる（一部のみが表示される）"
   ]
  },
  {
   "cell_type": "code",
   "execution_count": 10,
   "metadata": {
    "id": "8--M3tZRF6W4"
   },
   "outputs": [
    {
     "name": "stdout",
     "output_type": "stream",
     "text": [
      "150\n"
     ]
    }
   ],
   "source": [
    "print(len(df))                 # サンプルサイズ（データ件数）を取得する"
   ]
  },
  {
   "cell_type": "code",
   "execution_count": 11,
   "metadata": {
    "id": "KsFEHRlf_6ut"
   },
   "outputs": [
    {
     "name": "stdout",
     "output_type": "stream",
     "text": [
      "0         Iris-setosa\n",
      "1         Iris-setosa\n",
      "2         Iris-setosa\n",
      "3         Iris-setosa\n",
      "4         Iris-setosa\n",
      "            ...      \n",
      "145    Iris-virginica\n",
      "146    Iris-virginica\n",
      "147    Iris-virginica\n",
      "148    Iris-virginica\n",
      "149    Iris-virginica\n",
      "Name: Name, Length: 150, dtype: object\n"
     ]
    }
   ],
   "source": [
    "print(df[\"Name\"])              # Nameのみを取得する "
   ]
  },
  {
   "cell_type": "code",
   "execution_count": 49,
   "metadata": {},
   "outputs": [
    {
     "name": "stdout",
     "output_type": "stream",
     "text": [
      "[0       True\n",
      "1       True\n",
      "2       True\n",
      "3       True\n",
      "4       True\n",
      "       ...  \n",
      "145    False\n",
      "146    False\n",
      "147    False\n",
      "148    False\n",
      "149    False\n",
      "Name: Name, Length: 150, dtype: bool]\n"
     ]
    }
   ],
   "source": [
    "print([df[\"Name\"] == \"Iris-setosa\"])"
   ]
  },
  {
   "cell_type": "code",
   "execution_count": 12,
   "metadata": {
    "id": "t-pZjdAKAQaX"
   },
   "outputs": [
    {
     "name": "stdout",
     "output_type": "stream",
     "text": [
      "    SepalLength  SepalWidth  PetalLength  PetalWidth         Name\n",
      "0           5.1         3.5          1.4         0.2  Iris-setosa\n",
      "1           4.9         3.0          1.4         0.2  Iris-setosa\n",
      "2           4.7         3.2          1.3         0.2  Iris-setosa\n",
      "3           4.6         3.1          1.5         0.2  Iris-setosa\n",
      "4           5.0         3.6          1.4         0.2  Iris-setosa\n",
      "5           5.4         3.9          1.7         0.4  Iris-setosa\n",
      "6           4.6         3.4          1.4         0.3  Iris-setosa\n",
      "7           5.0         3.4          1.5         0.2  Iris-setosa\n",
      "8           4.4         2.9          1.4         0.2  Iris-setosa\n",
      "9           4.9         3.1          1.5         0.1  Iris-setosa\n",
      "10          5.4         3.7          1.5         0.2  Iris-setosa\n",
      "11          4.8         3.4          1.6         0.2  Iris-setosa\n",
      "12          4.8         3.0          1.4         0.1  Iris-setosa\n",
      "13          4.3         3.0          1.1         0.1  Iris-setosa\n",
      "14          5.8         4.0          1.2         0.2  Iris-setosa\n",
      "15          5.7         4.4          1.5         0.4  Iris-setosa\n",
      "16          5.4         3.9          1.3         0.4  Iris-setosa\n",
      "17          5.1         3.5          1.4         0.3  Iris-setosa\n",
      "18          5.7         3.8          1.7         0.3  Iris-setosa\n",
      "19          5.1         3.8          1.5         0.3  Iris-setosa\n",
      "20          5.4         3.4          1.7         0.2  Iris-setosa\n",
      "21          5.1         3.7          1.5         0.4  Iris-setosa\n",
      "22          4.6         3.6          1.0         0.2  Iris-setosa\n",
      "23          5.1         3.3          1.7         0.5  Iris-setosa\n",
      "24          4.8         3.4          1.9         0.2  Iris-setosa\n",
      "25          5.0         3.0          1.6         0.2  Iris-setosa\n",
      "26          5.0         3.4          1.6         0.4  Iris-setosa\n",
      "27          5.2         3.5          1.5         0.2  Iris-setosa\n",
      "28          5.2         3.4          1.4         0.2  Iris-setosa\n",
      "29          4.7         3.2          1.6         0.2  Iris-setosa\n",
      "30          4.8         3.1          1.6         0.2  Iris-setosa\n",
      "31          5.4         3.4          1.5         0.4  Iris-setosa\n",
      "32          5.2         4.1          1.5         0.1  Iris-setosa\n",
      "33          5.5         4.2          1.4         0.2  Iris-setosa\n",
      "34          4.9         3.1          1.5         0.1  Iris-setosa\n",
      "35          5.0         3.2          1.2         0.2  Iris-setosa\n",
      "36          5.5         3.5          1.3         0.2  Iris-setosa\n",
      "37          4.9         3.1          1.5         0.1  Iris-setosa\n",
      "38          4.4         3.0          1.3         0.2  Iris-setosa\n",
      "39          5.1         3.4          1.5         0.2  Iris-setosa\n",
      "40          5.0         3.5          1.3         0.3  Iris-setosa\n",
      "41          4.5         2.3          1.3         0.3  Iris-setosa\n",
      "42          4.4         3.2          1.3         0.2  Iris-setosa\n",
      "43          5.0         3.5          1.6         0.6  Iris-setosa\n",
      "44          5.1         3.8          1.9         0.4  Iris-setosa\n",
      "45          4.8         3.0          1.4         0.3  Iris-setosa\n",
      "46          5.1         3.8          1.6         0.2  Iris-setosa\n",
      "47          4.6         3.2          1.4         0.2  Iris-setosa\n",
      "48          5.3         3.7          1.5         0.2  Iris-setosa\n",
      "49          5.0         3.3          1.4         0.2  Iris-setosa\n"
     ]
    }
   ],
   "source": [
    "print(df[df[\"Name\"] == \"Iris-setosa\"])   # NameがIris-setosaであるデータを全て取得する"
   ]
  },
  {
   "cell_type": "code",
   "execution_count": 13,
   "metadata": {
    "id": "OmKPaQ0fAwuQ"
   },
   "outputs": [
    {
     "name": "stdout",
     "output_type": "stream",
     "text": [
      "     SepalLength  SepalWidth  PetalLength  PetalWidth             Name\n",
      "41           4.5         2.3          1.3         0.3      Iris-setosa\n",
      "53           5.5         2.3          4.0         1.3  Iris-versicolor\n",
      "57           4.9         2.4          3.3         1.0  Iris-versicolor\n",
      "60           5.0         2.0          3.5         1.0  Iris-versicolor\n",
      "62           6.0         2.2          4.0         1.0  Iris-versicolor\n",
      "68           6.2         2.2          4.5         1.5  Iris-versicolor\n",
      "69           5.6         2.5          3.9         1.1  Iris-versicolor\n",
      "72           6.3         2.5          4.9         1.5  Iris-versicolor\n",
      "80           5.5         2.4          3.8         1.1  Iris-versicolor\n",
      "81           5.5         2.4          3.7         1.0  Iris-versicolor\n",
      "87           6.3         2.3          4.4         1.3  Iris-versicolor\n",
      "89           5.5         2.5          4.0         1.3  Iris-versicolor\n",
      "93           5.0         2.3          3.3         1.0  Iris-versicolor\n",
      "98           5.1         2.5          3.0         1.1  Iris-versicolor\n",
      "106          4.9         2.5          4.5         1.7   Iris-virginica\n",
      "108          6.7         2.5          5.8         1.8   Iris-virginica\n",
      "113          5.7         2.5          5.0         2.0   Iris-virginica\n",
      "119          6.0         2.2          5.0         1.5   Iris-virginica\n",
      "146          6.3         2.5          5.0         1.9   Iris-virginica\n"
     ]
    }
   ],
   "source": [
    "print(df[df[\"SepalWidth\"] <= 2.5])       # SepalWidthが2.5以下であるデータを全て取得する"
   ]
  },
  {
   "cell_type": "code",
   "execution_count": 14,
   "metadata": {
    "id": "w_Xh-rG-CLlM"
   },
   "outputs": [
    {
     "name": "stdout",
     "output_type": "stream",
     "text": [
      "1.1986666666666668\n"
     ]
    }
   ],
   "source": [
    "print(df[\"PetalWidth\"].mean())           # PetalWidthの標本平均を取得する"
   ]
  },
  {
   "cell_type": "code",
   "execution_count": 15,
   "metadata": {
    "id": "l-kMAeJ6CcJ3"
   },
   "outputs": [
    {
     "name": "stdout",
     "output_type": "stream",
     "text": [
      "2.5\n"
     ]
    }
   ],
   "source": [
    "print(df[\"PetalWidth\"].max())            # PetalWidthの最大値を取得する"
   ]
  },
  {
   "cell_type": "markdown",
   "metadata": {
    "id": "rbXhtyuYCFFp"
   },
   "source": [
    "　以上の関数を利用して、先ほどExcelで目視したことを1つ確かめてみよう。"
   ]
  },
  {
   "cell_type": "code",
   "execution_count": 48,
   "metadata": {
    "id": "22dbMa76DNQZ"
   },
   "outputs": [
    {
     "name": "stdout",
     "output_type": "stream",
     "text": [
      "0.6\n"
     ]
    }
   ],
   "source": [
    "## 事実: PetalWidthに着目してみると、Iris-setosaは必ず1未満である\n",
    "## -> Name==Iris-setosaであるデータについて、PetalWidthの最大値を確認すればよい\n",
    "setosa = df[df[\"Name\"] == \"Iris-setosa\"]      # Name==Iris-setosaであるデータを抜き出して別名保存\n",
    "print(setosa[\"PetalWidth\"].max())"
   ]
  },
  {
   "cell_type": "markdown",
   "metadata": {
    "id": "ORrhzFlZER6j"
   },
   "source": [
    "　上記のコードを実行すると、0.6という出力が得られる。つまり**Iris-setosaのPetalWidthは最大でも0.6**であり、確かに1未満であることが確認できる。このように2段階に分けて（別名保存しながら）データを処理すると混乱せずに済むので、慣れるまではこのようにすると良いだろう。"
   ]
  },
  {
   "cell_type": "markdown",
   "metadata": {
    "id": "WFrlOKIwgXrj"
   },
   "source": [
    "--------\n",
    "##### 課題 DS2.1\n",
    "\n",
    "　次に示すコードの `__xxxxx__` 部に適切な文字列を入力し、PetalLengthの最小値を取得せよ。\n",
    "\n",
    "　課題提出時には、以下の2点を記述せよ。\n",
    "\n",
    "* `__xxxxx__`を何に書き換えたか\n",
    "* PetalLengthの最小値"
   ]
  },
  {
   "cell_type": "code",
   "execution_count": 17,
   "metadata": {
    "id": "dw9gCABFgqdD"
   },
   "outputs": [
    {
     "ename": "AttributeError",
     "evalue": "'Series' object has no attribute '__xxxxx__'",
     "output_type": "error",
     "traceback": [
      "\u001b[1;31m---------------------------------------------------------------------------\u001b[0m",
      "\u001b[1;31mAttributeError\u001b[0m                            Traceback (most recent call last)",
      "\u001b[1;32m<ipython-input-17-5a251e0bea05>\u001b[0m in \u001b[0;36m<module>\u001b[1;34m\u001b[0m\n\u001b[1;32m----> 1\u001b[1;33m \u001b[0mprint\u001b[0m\u001b[1;33m(\u001b[0m\u001b[0mdf\u001b[0m\u001b[1;33m[\u001b[0m\u001b[1;34m\"PetalLength\"\u001b[0m\u001b[1;33m]\u001b[0m\u001b[1;33m.\u001b[0m\u001b[0m__xxxxx__\u001b[0m\u001b[1;33m(\u001b[0m\u001b[1;33m)\u001b[0m\u001b[1;33m)\u001b[0m\u001b[1;33m\u001b[0m\u001b[1;33m\u001b[0m\u001b[0m\n\u001b[0m",
      "\u001b[1;32mD:\\Softwares\\Anaconda\\envs\\tf\\lib\\site-packages\\pandas\\core\\generic.py\u001b[0m in \u001b[0;36m__getattr__\u001b[1;34m(self, name)\u001b[0m\n\u001b[0;32m   5139\u001b[0m             \u001b[1;32mif\u001b[0m \u001b[0mself\u001b[0m\u001b[1;33m.\u001b[0m\u001b[0m_info_axis\u001b[0m\u001b[1;33m.\u001b[0m\u001b[0m_can_hold_identifiers_and_holds_name\u001b[0m\u001b[1;33m(\u001b[0m\u001b[0mname\u001b[0m\u001b[1;33m)\u001b[0m\u001b[1;33m:\u001b[0m\u001b[1;33m\u001b[0m\u001b[1;33m\u001b[0m\u001b[0m\n\u001b[0;32m   5140\u001b[0m                 \u001b[1;32mreturn\u001b[0m \u001b[0mself\u001b[0m\u001b[1;33m[\u001b[0m\u001b[0mname\u001b[0m\u001b[1;33m]\u001b[0m\u001b[1;33m\u001b[0m\u001b[1;33m\u001b[0m\u001b[0m\n\u001b[1;32m-> 5141\u001b[1;33m             \u001b[1;32mreturn\u001b[0m \u001b[0mobject\u001b[0m\u001b[1;33m.\u001b[0m\u001b[0m__getattribute__\u001b[0m\u001b[1;33m(\u001b[0m\u001b[0mself\u001b[0m\u001b[1;33m,\u001b[0m \u001b[0mname\u001b[0m\u001b[1;33m)\u001b[0m\u001b[1;33m\u001b[0m\u001b[1;33m\u001b[0m\u001b[0m\n\u001b[0m\u001b[0;32m   5142\u001b[0m \u001b[1;33m\u001b[0m\u001b[0m\n\u001b[0;32m   5143\u001b[0m     \u001b[1;32mdef\u001b[0m \u001b[0m__setattr__\u001b[0m\u001b[1;33m(\u001b[0m\u001b[0mself\u001b[0m\u001b[1;33m,\u001b[0m \u001b[0mname\u001b[0m\u001b[1;33m:\u001b[0m \u001b[0mstr\u001b[0m\u001b[1;33m,\u001b[0m \u001b[0mvalue\u001b[0m\u001b[1;33m)\u001b[0m \u001b[1;33m->\u001b[0m \u001b[1;32mNone\u001b[0m\u001b[1;33m:\u001b[0m\u001b[1;33m\u001b[0m\u001b[1;33m\u001b[0m\u001b[0m\n",
      "\u001b[1;31mAttributeError\u001b[0m: 'Series' object has no attribute '__xxxxx__'"
     ]
    }
   ],
   "source": [
    "print(df[\"PetalLength\"].__xxxxx__())"
   ]
  },
  {
   "cell_type": "code",
   "execution_count": 50,
   "metadata": {},
   "outputs": [
    {
     "name": "stdout",
     "output_type": "stream",
     "text": [
      "0      1.4\n",
      "1      1.4\n",
      "2      1.3\n",
      "3      1.5\n",
      "4      1.4\n",
      "      ... \n",
      "145    5.2\n",
      "146    5.0\n",
      "147    5.2\n",
      "148    5.4\n",
      "149    5.1\n",
      "Name: PetalLength, Length: 150, dtype: float64\n"
     ]
    }
   ],
   "source": [
    "print(df[\"PetalLength\"])"
   ]
  },
  {
   "cell_type": "code",
   "execution_count": 18,
   "metadata": {},
   "outputs": [
    {
     "name": "stdout",
     "output_type": "stream",
     "text": [
      "1.0\n"
     ]
    }
   ],
   "source": [
    "print(df[\"PetalLength\"].min())"
   ]
  },
  {
   "cell_type": "markdown",
   "metadata": {
    "id": "gOCe56Q9DofK"
   },
   "source": [
    "-------"
   ]
  },
  {
   "cell_type": "markdown",
   "metadata": {
    "id": "bZALcgoHhWDk"
   },
   "source": [
    "### DS2.1.2 | 推測統計\n",
    "\n",
    "　これまでの記述統計では、既にあるサンプルの様々な値を確認したり、サンプルをまとめて表現するような値（標本平均、最小値など）を計算した。\n",
    "一方、推測統計では、**手元にあるサンプル（データ）は母集団 (population) から無作為に取り出された「母集団の部分集合」である**という考え方に基づいて、サンプルから、母集団の平均や分散などの性質を明らかにすることを目的としている。"
   ]
  },
  {
   "cell_type": "markdown",
   "metadata": {
    "id": "XMqdiCmOhaJX"
   },
   "source": [
    "　言葉だけではわかりにくいと思うので、実際に計算を行ってみよう。\n",
    "以下のコードは、**平均1、分散1の正規分布**から10件のデータ（これが1つのサンプルに対応する）を発生させ、標本平均 (sample mean) および標本分散 (sample variance) を計算している。"
   ]
  },
  {
   "cell_type": "code",
   "execution_count": 1,
   "metadata": {
    "id": "VnbxibQmLCm5"
   },
   "outputs": [],
   "source": [
    "import random\n",
    "\n",
    "# n件のデータからなる1つのサンプルを発生させる\n",
    "def gen_sample(n):\n",
    "    sample = []\n",
    "    for i in range(n):\n",
    "        sample.append(random.gauss(1,1))\n",
    "    return sample"
   ]
  },
  {
   "cell_type": "markdown",
   "metadata": {
    "id": "WPMRxZOWEnw3"
   },
   "source": [
    "　次のコードは、10件のデータからなるサンプルの標本平均および標本分散を計算するコードである。実行毎に結果は変化するので、何度も実行してみてほしい。"
   ]
  },
  {
   "cell_type": "code",
   "execution_count": 2,
   "metadata": {
    "id": "Z-8nZemyL1Bg"
   },
   "outputs": [
    {
     "name": "stdout",
     "output_type": "stream",
     "text": [
      "0.621754156338984\n",
      "0.48410505796922493\n"
     ]
    }
   ],
   "source": [
    "import statistics\n",
    "a_sample = gen_sample(10)\n",
    "\n",
    "print(statistics.mean(a_sample))\n",
    "print(statistics.pvariance(a_sample)) # 標本分散を計算する"
   ]
  },
  {
   "cell_type": "markdown",
   "metadata": {
    "id": "maG3_PypLuXY"
   },
   "source": [
    "　資料作成の時には、5回実行してみると、標本平均が0.55～1.66、標本分散が0.74～1.07という結果が得られた。かなりばらつきがあるようだ。\n",
    "\n",
    "　さて、この標本平均および標本分散の期待値（平均値）はいくらになるだろうか。沢山のサンプルを発生させ、標本平均と標本分散を毎回計算し、その平均値を求めてみることにする。"
   ]
  },
  {
   "cell_type": "code",
   "execution_count": 3,
   "metadata": {
    "id": "-7_izqLKlt35"
   },
   "outputs": [
    {
     "name": "stdout",
     "output_type": "stream",
     "text": [
      "0.9987970289764735\n"
     ]
    }
   ],
   "source": [
    "sample_means = []\n",
    "for i in range(10000):\n",
    "    sample = gen_sample(10)\n",
    "    sample_mean = statistics.mean(sample)\n",
    "    sample_means.append(sample_mean)\n",
    "print(statistics.mean(sample_means))"
   ]
  },
  {
   "cell_type": "code",
   "execution_count": 4,
   "metadata": {
    "id": "H-ZqYFPSl45h"
   },
   "outputs": [
    {
     "name": "stdout",
     "output_type": "stream",
     "text": [
      "0.9090393149251554\n"
     ]
    }
   ],
   "source": [
    "\n",
    "sample_variances = []\n",
    "for i in range(10000):\n",
    "    sample = gen_sample(10)\n",
    "    sample_variance = statistics.pvariance(sample)\n",
    "    sample_variances.append(sample_variance)\n",
    "print(statistics.mean(sample_variances))"
   ]
  },
  {
   "cell_type": "code",
   "execution_count": 12,
   "metadata": {},
   "outputs": [
    {
     "name": "stdout",
     "output_type": "stream",
     "text": [
      "1.0022141070159785\n"
     ]
    }
   ],
   "source": [
    "import numpy as np\n",
    "sample_variances = []\n",
    "for i in range(10000):\n",
    "    sample = gen_sample(10)\n",
    "    sample_mean = statistics.mean(sample)\n",
    "    sample_variance = np.var(sample, ddof = 1)\n",
    "    sample_variances.append(sample_variance)\n",
    "print(statistics.mean(sample_variances))"
   ]
  },
  {
   "cell_type": "code",
   "execution_count": 6,
   "metadata": {},
   "outputs": [
    {
     "name": "stdout",
     "output_type": "stream",
     "text": [
      "1.0027533045374741\n"
     ]
    }
   ],
   "source": [
    "sample_means = []\n",
    "sample_variances = []\n",
    "for i in range(10000):\n",
    "    sample = gen_sample(10)\n",
    "    sample_mean = statistics.mean(sample)\n",
    "    sample_means.append(sample_mean)\n",
    "    sample_variance = statistics.variance(sample)\n",
    "    sample_variances.append(sample_variance)\n",
    "print(statistics.mean(sample_variances))"
   ]
  },
  {
   "cell_type": "code",
   "execution_count": 7,
   "metadata": {},
   "outputs": [
    {
     "ename": "NameError",
     "evalue": "name 'sta' is not defined",
     "output_type": "error",
     "traceback": [
      "\u001b[1;31m---------------------------------------------------------------------------\u001b[0m",
      "\u001b[1;31mNameError\u001b[0m                                 Traceback (most recent call last)",
      "\u001b[1;32m<ipython-input-7-cb735281cd47>\u001b[0m in \u001b[0;36m<module>\u001b[1;34m\u001b[0m\n\u001b[0;32m      2\u001b[0m \u001b[1;32mfor\u001b[0m \u001b[0mi\u001b[0m \u001b[1;32min\u001b[0m \u001b[0mrange\u001b[0m\u001b[1;33m(\u001b[0m\u001b[1;36m10000\u001b[0m\u001b[1;33m)\u001b[0m\u001b[1;33m:\u001b[0m\u001b[1;33m\u001b[0m\u001b[1;33m\u001b[0m\u001b[0m\n\u001b[0;32m      3\u001b[0m     \u001b[0msample\u001b[0m \u001b[1;33m=\u001b[0m  \u001b[0mgen_sample\u001b[0m\u001b[1;33m(\u001b[0m\u001b[1;36m10\u001b[0m\u001b[1;33m)\u001b[0m\u001b[1;33m\u001b[0m\u001b[1;33m\u001b[0m\u001b[0m\n\u001b[1;32m----> 4\u001b[1;33m     \u001b[0msample_variance\u001b[0m \u001b[1;33m=\u001b[0m \u001b[0msta\u001b[0m\u001b[1;33m\u001b[0m\u001b[1;33m\u001b[0m\u001b[0m\n\u001b[0m",
      "\u001b[1;31mNameError\u001b[0m: name 'sta' is not defined"
     ]
    }
   ],
   "source": [
    "sample_variances = []\n",
    "for i in range(10000):\n",
    "    sample =  gen_sample(10)\n",
    "    sample_variance = sta"
   ]
  },
  {
   "cell_type": "markdown",
   "metadata": {
    "id": "CCl3ejSGMvX_"
   },
   "source": [
    "　どうやら、標本平均の期待値（平均値）は1.0、標本分散の期待値（平均値）は0.9程度のようである。\n",
    "ここで、元の分布の**分散は1**だったにも関わらず、**標本分散の平均値が0.9**であることに注意してほしい。すなわち、標本分散の期待値（平均値）は母分散（population variance, 元の分布の分散）とは一致しない（つまり、**標本分散は分散の不偏推定量 (unbiased estimator) ではない**）。"
   ]
  },
  {
   "cell_type": "markdown",
   "metadata": {
    "id": "OWokbCbZoof3"
   },
   "source": [
    "---------\n",
    "##### 課題 DS2.2\n",
    "　上記の検証ではサンプル数（サンプルサイズではない）を10,000にしていた。このサンプル数を100にした時、100,000にした時に、どのような変化が生じるだろうか。以下の2点について答えよ。（最大で30秒程度の計算時間を要する）\n",
    "* 出力される標本平均・標本分散の精度（定性的な評価でかまわない）\n",
    "* 値が表示されるまでにかかった時間とサンプル数との関係\n",
    "\n",
    "　なお、計算時間の計測に関しては以下のコードを利用せよ。"
   ]
  },
  {
   "cell_type": "code",
   "execution_count": 46,
   "metadata": {
    "id": "lJzhRjnvNrb1"
   },
   "outputs": [
    {
     "name": "stdout",
     "output_type": "stream",
     "text": [
      "0.11699700355529785\n"
     ]
    }
   ],
   "source": [
    "import time\n",
    "time_start = time.time() # 現在の時間を計測する\n",
    "\n",
    "for i in range(10000):\n",
    "  sample = gen_sample(10) \n",
    "  # CALC SOMETHING\n",
    "time_end = time.time() # 現在の時間を計測する\n",
    "print(time_end - time_start) # 開始時間と終了時間の差（秒）を計算する"
   ]
  },
  {
   "cell_type": "code",
   "execution_count": 8,
   "metadata": {},
   "outputs": [
    {
     "name": "stdout",
     "output_type": "stream",
     "text": [
      "0.99913\n",
      "0.99624\n",
      "0.0690302848815918\n"
     ]
    }
   ],
   "source": [
    "import random\n",
    "import statistics\n",
    "# n件のデータからなる1つのサンプルを発生させる\n",
    "def gen_sample(n):\n",
    "    sample = []\n",
    "    for i in range(n):\n",
    "        sample.append(random.gauss(1,1))\n",
    "    return sample\n",
    "\n",
    "import time\n",
    "time_start = time.time() # Present time\n",
    "sample_means = []\n",
    "sample_variances = []\n",
    "for i in range(100):\n",
    "    sample = gen_sample(10)\n",
    "    sample_mean = statistics.mean(sample)\n",
    "    sample_means.append(sample_mean)\n",
    "    sample_variance = statistics.variance(sample)\n",
    "    sample_variances.append(sample_variance)\n",
    "mean = statistics.mean(sample_means)\n",
    "variance = statistics.mean(sample_variances)\n",
    "mean_accuracy = 1 - abs(mean-1)  \n",
    "variance_accuracy = 1 - abs(variance-1)\n",
    "time_end = time.time()\n",
    "print(\"%.5f\" % mean_accuracy)\n",
    "print('%.5f' % variance_accuracy)\n",
    "print(time_end - time_start)\n",
    "time_end = time.time() # After calculation"
   ]
  },
  {
   "cell_type": "code",
   "execution_count": 171,
   "metadata": {},
   "outputs": [
    {
     "name": "stdout",
     "output_type": "stream",
     "text": [
      "0.99801\n",
      "0.99476\n",
      "5.653327465057373\n"
     ]
    }
   ],
   "source": [
    "import random\n",
    "import statistics\n",
    "# n件のデータからなる1つのサンプルを発生させる\n",
    "def gen_sample(n):\n",
    "    sample = []\n",
    "    for i in range(n):\n",
    "        sample.append(random.gauss(1,1))\n",
    "    return sample\n",
    "\n",
    "import time\n",
    "time_start = time.time() # Present time\n",
    "sample_means = []\n",
    "sample_variances = []\n",
    "for i in range(10000):\n",
    "    sample = gen_sample(10)\n",
    "    sample_mean = statistics.mean(sample)\n",
    "    sample_means.append(sample_mean)\n",
    "    sample_variance = statistics.variance(sample)\n",
    "    sample_variances.append(sample_variance)\n",
    "mean = statistics.mean(sample_means)\n",
    "variance = statistics.mean(sample_variances)\n",
    "mean_accuracy = 1 - abs(mean-1)  \n",
    "variance_accuracy = 1 - abs(variance-1)\n",
    "time_end = time.time()\n",
    "print(\"%.5f\" % mean_accuracy)\n",
    "print('%.5f' % variance_accuracy)\n",
    "print(time_end - time_start)\n",
    "time_end = time.time() # After calculation"
   ]
  },
  {
   "cell_type": "markdown",
   "metadata": {
    "id": "rmeq-kjrNweb"
   },
   "source": [
    "-----\n",
    "##### 課題 DS2.3\n",
    "\n",
    "　`statistics.pvariance(sample)`は与えられたサンプルの標本分散 (sample variance) を求める関数であった。同様に、不偏推定量である不偏分散（unbiased variance）を求める関数が`statistics`に存在している。Google検索などを行い、不偏分散を求める関数の名前を答えよ。\n",
    "ただし、例えば**Pythonの公式ドキュメントは母分散、標本分散などの単語を一部誤用している**ため、分散の定義や注釈なども読む必要があることに注意せよ。\n",
    "\n",
    "　すぐに見つけられた受講生向け（採点対象外）：上記のコードを修正して、不偏分散の期待値（平均値）を計算し、不偏分散の平均値が母分散 (population variance) である1.0に漸近することを確認せよ。"
   ]
  },
  {
   "cell_type": "code",
   "execution_count": null,
   "metadata": {},
   "outputs": [],
   "source": []
  },
  {
   "cell_type": "markdown",
   "metadata": {
    "id": "N5MsA3_HNptu"
   },
   "source": [
    "-------"
   ]
  },
  {
   "cell_type": "markdown",
   "metadata": {
    "id": "cUrUOeI5pphK"
   },
   "source": [
    "## 2.2 | matplotlibを利用した図の描画\n",
    "\n",
    "　これまではひたすら数値を抜き出して表示させたり、あるいは平均値や最小値、最大値、分散などの値を計算していた。一方、沢山のデータの傾向を眺めるのに図を作成することは非常に効果的である。\n",
    "ここでは、matplotlibという別のライブラリを利用して、図の作成を行ってみる。matplotlibを使うと、**図2.2**や**図2.3**のような図を簡単に作成することができる。\n",
    "\n",
    "\n",
    "![ヒストグラムの例](https://i.imgur.com/YviFPUt.png)\n",
    "\n",
    "**図 2.2 |** ヒストグラムの例\n",
    "\n",
    "![箱ひげ図の例](https://i.imgur.com/xYREV5t.png)\n",
    "\n",
    "**図 2.3 |** 箱ひげ図（box plot）の例\n",
    "\n",
    "\n",
    "　\n",
    "\n",
    "\n"
   ]
  },
  {
   "cell_type": "markdown",
   "metadata": {
    "id": "AQ4vs_eFM4LV"
   },
   "source": [
    "### 2.2.1 | matplotlibの利用準備\n",
    "　まず、新しいライブラリを使う準備を行う。`pandas`でやった時と同じように`import`文を実行する。"
   ]
  },
  {
   "cell_type": "code",
   "execution_count": 26,
   "metadata": {
    "id": "BRysIdCHIdRK"
   },
   "outputs": [],
   "source": [
    "import matplotlib.pyplot as plt  "
   ]
  },
  {
   "cell_type": "markdown",
   "metadata": {
    "id": "eE12_9wRNK4y"
   },
   "source": [
    "　また、先ほどと同様のirisのデータを用いるため、準備を行う。\n",
    "もしフォルダから `DS2_iris.csv` が消去されてしまっていたら、再度アップロードの作業を行った上で、以下のコードを実行する。"
   ]
  },
  {
   "cell_type": "code",
   "execution_count": 27,
   "metadata": {
    "id": "SOI7_B7urLeP"
   },
   "outputs": [],
   "source": [
    "import pandas as pd\n",
    "df = pd.read_csv(\"DS2_iris.csv\") # CSVの読み込み  "
   ]
  },
  {
   "cell_type": "markdown",
   "metadata": {
    "id": "nVMGQb1NqtH5"
   },
   "source": [
    "### 2.2.2 | ヒストグラムの描画"
   ]
  },
  {
   "cell_type": "markdown",
   "metadata": {
    "id": "ZCiWxZ-HqsmZ"
   },
   "source": [
    "　`matplotlib`を使って早速ヒストグラムを描画してみよう。\n",
    "最も単純には、以下のコードで書くことができる。"
   ]
  },
  {
   "cell_type": "code",
   "execution_count": 28,
   "metadata": {
    "id": "0FN1JrE2NfyL"
   },
   "outputs": [
    {
     "data": {
      "image/png": "[encoded data removed]",
      "text/plain": [
       "<Figure size 432x288 with 1 Axes>"
      ]
     },
     "metadata": {
      "needs_background": "light"
     },
     "output_type": "display_data"
    }
   ],
   "source": [
    "plt.hist(df[\"PetalWidth\"]) # ヒストグラムを書く関数hist()に、ヒストグラムを描きたいデータを入力する\n",
    "plt.show()                 # 図はprint()の代わりに、show()で表示する"
   ]
  },
  {
   "cell_type": "markdown",
   "metadata": {
    "id": "-jNmG4CPN1EQ"
   },
   "source": [
    "　上記のコードでは、x軸やy軸がどういう値か図に示されていない。これを図に含めるためには、`plt.xlabel()`、`plt.ylabel()`を使えば良い。"
   ]
  },
  {
   "cell_type": "code",
   "execution_count": 29,
   "metadata": {
    "id": "xBCgeVzVJOMj"
   },
   "outputs": [
    {
     "data": {
      "image/png": "[encoded data removed]",
      "text/plain": [
       "<Figure size 432x288 with 1 Axes>"
      ]
     },
     "metadata": {
      "needs_background": "light"
     },
     "output_type": "display_data"
    }
   ],
   "source": [
    "plt.hist(df[\"PetalWidth\"])\n",
    "plt.xlabel(\"PetalWidth\")   # x軸の説明\n",
    "plt.ylabel(\"Frequency\")    # y軸の説明\n",
    "plt.show()"
   ]
  },
  {
   "cell_type": "markdown",
   "metadata": {
    "id": "63uI1PKVOapD"
   },
   "source": [
    "　このコードを実行することによって、 **図2.2** と同じ図を表示することができた。\n",
    "\n",
    "　matplotlibで作成した図は、画像（png等）やPDFで保存することができる。この場合は、`plt.show()`関数の代わりに`plt.savefig(filename)`で保存する。"
   ]
  },
  {
   "cell_type": "code",
   "execution_count": 30,
   "metadata": {
    "id": "8cQ_YPzhUWTG"
   },
   "outputs": [
    {
     "data": {
      "image/png": "[encoded data removed]",
      "text/plain": [
       "<Figure size 432x288 with 1 Axes>"
      ]
     },
     "metadata": {
      "needs_background": "light"
     },
     "output_type": "display_data"
    }
   ],
   "source": [
    "plt.hist(df[\"PetalWidth\"])\n",
    "plt.xlabel(\"PetalWidth\")   # x軸の説明\n",
    "plt.ylabel(\"Frequency\")    # y軸の説明\n",
    "plt.savefig(\"histogram_pWidth.png\") # 拡張子によってPDFが生成されたり画像が生成されたりする\n",
    "### Google Colabの場合は画面にも表示される"
   ]
  },
  {
   "cell_type": "markdown",
   "metadata": {
    "id": "7YoUGc72k25q"
   },
   "source": [
    "　作成したファイルは、csvファイルをアップロードした場所に表示される。もし表示されない場合は、「アップロード」ボタンの隣にある「更新」を栗供すれば表示されるはずである。"
   ]
  },
  {
   "cell_type": "markdown",
   "metadata": {
    "id": "2aI_nskks1pQ"
   },
   "source": [
    "### 2.2.2 | 箱ひげ図 (boxplot) の描画"
   ]
  },
  {
   "cell_type": "markdown",
   "metadata": {
    "id": "suSlkN8nuVJi"
   },
   "source": [
    "　箱ひげ図 (boxplot) は、以下の情報を一度に表示することで、データの分布の概形を知ることができるものである。\n",
    "\n",
    "* （外れ値を除いた）最大値　　　　：最上部の横線\n",
    "* 75パーセンタイル（第三四分位数）：箱の上面\n",
    "* 50パーセンタイル（中央値）　　　：箱内部の赤線\n",
    "* 25パーセンタイル（第一四分位数）：箱の下面\n",
    "* （外れ値を除いた）最小値　　　　：最下部の横線\n",
    "* 外れ値　　　　　　　　　　　　　：丸点"
   ]
  },
  {
   "cell_type": "markdown",
   "metadata": {
    "id": "hv-Kl1pQO1rp"
   },
   "source": [
    "　それでは、Iris-setosaのPetalWidthについて、箱ひげ図を描画してみる。最も単純には、以下のコードで箱ひげ図を作成することができる。\n",
    "\n"
   ]
  },
  {
   "cell_type": "code",
   "execution_count": 31,
   "metadata": {
    "id": "1ujVIKINs-mC"
   },
   "outputs": [
    {
     "data": {
      "image/png": "[encoded data removed]",
      "text/plain": [
       "<Figure size 432x288 with 1 Axes>"
      ]
     },
     "metadata": {
      "needs_background": "light"
     },
     "output_type": "display_data"
    }
   ],
   "source": [
    "setosa = df[df[\"Name\"] == \"Iris-setosa\"]\n",
    "plt.boxplot(setosa[\"PetalWidth\"])\n",
    "plt.show()"
   ]
  },
  {
   "cell_type": "markdown",
   "metadata": {
    "id": "5msq7WdFtJ95"
   },
   "source": [
    "　この場合は、第一四分位数と中央値が一致しているため、箱の下面が赤線になっている。"
   ]
  },
  {
   "cell_type": "markdown",
   "metadata": {
    "id": "R-Q_YBXfwYAv"
   },
   "source": [
    "　次に、少し複雑な箱ひげ図を作成してみよう。Iris-setosa, Iris-versicolor, Iris-virginicaのそれぞれのPetalWidthの箱ひげ図を、同じグラフで表示する。複数のデータを入力するときは、`plt.boxplot()`に**配列として**与える。"
   ]
  },
  {
   "cell_type": "code",
   "execution_count": 32,
   "metadata": {
    "id": "yJisnEx5KH28"
   },
   "outputs": [
    {
     "data": {
      "image/png": "[encoded data removed]",
      "text/plain": [
       "<Figure size 432x288 with 1 Axes>"
      ]
     },
     "metadata": {
      "needs_background": "light"
     },
     "output_type": "display_data"
    }
   ],
   "source": [
    "setosa = df[df[\"Name\"] == \"Iris-setosa\"]\n",
    "versicolor = df[df[\"Name\"] == \"Iris-versicolor\"]\n",
    "virginica = df[df[\"Name\"] == \"Iris-virginica\"]\n",
    "\n",
    "plt.boxplot([setosa[\"PetalWidth\"], versicolor[\"PetalWidth\"], virginica[\"PetalWidth\"]]) # 複数の入力を配列にまとめてあげる\n",
    "plt.show()"
   ]
  },
  {
   "cell_type": "markdown",
   "metadata": {
    "id": "lctk4YByxLtP"
   },
   "source": [
    "　ところで、1, 2, 3ではどれがどのデータだかわからない。ここに\"Iris-setosa\"などと表示させたい場合には、\n",
    "`plt.boxplot()`関数の`labels`引数を用いる。以下のコードで作成した図が、**図2.3**である。"
   ]
  },
  {
   "cell_type": "code",
   "execution_count": 33,
   "metadata": {
    "id": "6MiMeU3fw6N7"
   },
   "outputs": [
    {
     "data": {
      "image/png": "[encoded data removed]",
      "text/plain": [
       "<Figure size 432x288 with 1 Axes>"
      ]
     },
     "metadata": {
      "needs_background": "light"
     },
     "output_type": "display_data"
    }
   ],
   "source": [
    "setosa = df[df[\"Name\"] == \"Iris-setosa\"]\n",
    "versicolor = df[df[\"Name\"] == \"Iris-versicolor\"]\n",
    "virginica = df[df[\"Name\"] == \"Iris-virginica\"]\n",
    "\n",
    "plt.boxplot([setosa[\"PetalWidth\"], versicolor[\"PetalWidth\"], virginica[\"PetalWidth\"]],\n",
    "            labels=[\"Iris-setosa\", \"Iris-versicolor\", \"Iris-virginica\"])\n",
    "plt.ylabel(\"PetalWidth\")\n",
    "plt.show() "
   ]
  },
  {
   "cell_type": "markdown",
   "metadata": {
    "id": "w8LF3Udcxqfe"
   },
   "source": [
    "### 2.2.3 | 散布図の描画"
   ]
  },
  {
   "cell_type": "markdown",
   "metadata": {
    "id": "I6B_cqcjvA4K"
   },
   "source": [
    "　さらに、散布図 (scatter plot) を作成してみる。散布図は二つの変数の関係を見る際に非常に有用である。"
   ]
  },
  {
   "cell_type": "code",
   "execution_count": 34,
   "metadata": {
    "id": "aYAitO_av9eR"
   },
   "outputs": [
    {
     "data": {
      "image/png": "[encoded data removed]",
      "text/plain": [
       "<Figure size 432x288 with 1 Axes>"
      ]
     },
     "metadata": {
      "needs_background": "light"
     },
     "output_type": "display_data"
    }
   ],
   "source": [
    "plt.scatter(df[\"PetalWidth\"], df[\"PetalLength\"])\n",
    "plt.xlabel(\"PetalWidth\")\n",
    "plt.ylabel(\"PetalLength\")\n",
    "\n",
    "plt.show()"
   ]
  },
  {
   "cell_type": "markdown",
   "metadata": {
    "id": "9MtSuSqUyD2f"
   },
   "source": [
    "　散布図では、凡例を記述することができる。"
   ]
  },
  {
   "cell_type": "code",
   "execution_count": 35,
   "metadata": {
    "id": "HH8D7H8kyJ4i"
   },
   "outputs": [
    {
     "data": {
      "image/png": "[encoded data removed]",
      "text/plain": [
       "<Figure size 432x288 with 1 Axes>"
      ]
     },
     "metadata": {
      "needs_background": "light"
     },
     "output_type": "display_data"
    }
   ],
   "source": [
    "plt.scatter(df[\"PetalWidth\"], df[\"PetalLength\"], label=\"all data\") # labelが凡例に表示される\n",
    "plt.xlabel(\"PetalWidth\")\n",
    "plt.ylabel(\"PetalLength\")\n",
    "plt.legend() # 凡例を表示\n",
    "plt.show()"
   ]
  },
  {
   "cell_type": "markdown",
   "metadata": {
    "id": "QuaIhKg_Qmgc"
   },
   "source": [
    "---------------\n",
    "##### 課題 DS2.4\n",
    "\n",
    "　**図2.4**のように、図の上部にタイトルを付けたい。Google検索などを駆使して、どのような関数を利用すればよいか答え、実際に作成した図を併せて添付せよ。\n",
    "\n",
    "![図2.4](https://i.imgur.com/m6vQ6sV.png)\n",
    "\n",
    "**図2.4 |** タイトル込みの描画例（部分）"
   ]
  },
  {
   "cell_type": "code",
   "execution_count": 157,
   "metadata": {},
   "outputs": [
    {
     "data": {
      "image/png": "[encoded data removed]",
      "text/plain": [
       "<Figure size 432x288 with 1 Axes>"
      ]
     },
     "metadata": {
      "needs_background": "light"
     },
     "output_type": "display_data"
    }
   ],
   "source": [
    "plt.scatter( df[\"PetalLength\"],df[\"PetalWidth\"], label = \"all data\")\n",
    "plt.xlabel(\"PetalWidth\")\n",
    "plt.ylabel(\"Petallength\")\n",
    "plt.legend()\n",
    "plt.title('Iris data')\n",
    "plt.show()"
   ]
  },
  {
   "cell_type": "code",
   "execution_count": 66,
   "metadata": {},
   "outputs": [
    {
     "data": {
      "image/png": "[encoded data removed]",
      "text/plain": [
       "<Figure size 432x288 with 1 Axes>"
      ]
     },
     "metadata": {
      "needs_background": "light"
     },
     "output_type": "display_data"
    }
   ],
   "source": [
    "plt.scatter(df[\"PetalWidth\"], df[\"PetalLength\"], label=\"all data\") # labelが凡例に表示される\n",
    "plt.xlabel(\"PetalWidth\")\n",
    "plt.ylabel(\"PetalLength\")\n",
    "plt.legend() # 凡例を表示\n",
    "plt.title('Iris data')\n",
    "plt.show()"
   ]
  },
  {
   "cell_type": "code",
   "execution_count": 209,
   "metadata": {},
   "outputs": [
    {
     "data": {
      "text/plain": [
       "Text(0.5, 1.0, 'Iris data')"
      ]
     },
     "execution_count": 209,
     "metadata": {},
     "output_type": "execute_result"
    },
    {
     "data": {
      "image/png": "[encoded data removed]",
      "text/plain": [
       "<Figure size 432x288 with 1 Axes>"
      ]
     },
     "metadata": {
      "needs_background": "light"
     },
     "output_type": "display_data"
    }
   ],
   "source": [
    "df = pd.read_csv(\"DS2_iris.csv\")\n",
    "a1 = df[\"PetalWidth\"]\n",
    "b1 = df['PetalLength']\n",
    "plt.scatter(a1[:], b1[:], label=\"all data\", marker='o', c='r', cmap='plasma') # labelが凡例に表示される\n",
    "plt.xlabel(\"PetalWidth\")\n",
    "plt.ylabel(\"PetalLength\")\n",
    "plt.legend() # 凡例を表示a = 'Iris-setosa' ,b = 'Iris-versicolor' c = 'Iris-virginica'\n",
    "plt.title('Iris data')\n"
   ]
  },
  {
   "cell_type": "code",
   "execution_count": null,
   "metadata": {},
   "outputs": [],
   "source": [
    "plt.scatter(X[:, 0], X[:, 1], marker='o', c=y, cmap='plasma')"
   ]
  },
  {
   "cell_type": "markdown",
   "metadata": {
    "id": "qKyoEfr5x7Yb"
   },
   "source": [
    "--------\n",
    "##### 課題 DS2.5（発展）\n",
    "　箱ひげ図同様に、散布図でもsetosa, versicolor, virginicaの区別をつけて描画してみたい。**図2.5**を例に、凡例を付けて、3種類のデータが区別できるように散布図を描画せよ（色の順番は図2.5と異なっていても良い）。\n",
    "提出の際には、`plt.rcParams[\"font.size\"]` を設定することで、図2.5とフォントサイズが異なることが視認できるようにせよ。\n",
    "\n",
    "![図2.5](https://i.imgur.com/ep8wlSh.png)\n",
    "\n",
    "**図2.5** 描画例 \n",
    "\n",
    "----------"
   ]
  },
  {
   "cell_type": "code",
   "execution_count": 59,
   "metadata": {},
   "outputs": [
    {
     "data": {
      "text/plain": [
       "0      0.2\n",
       "1      0.2\n",
       "2      0.2\n",
       "3      0.2\n",
       "4      0.2\n",
       "      ... \n",
       "145    2.3\n",
       "146    1.9\n",
       "147    2.0\n",
       "148    2.3\n",
       "149    1.8\n",
       "Name: PetalWidth, Length: 150, dtype: float64"
      ]
     },
     "execution_count": 59,
     "metadata": {},
     "output_type": "execute_result"
    }
   ],
   "source": [
    "df[\"PetalWidth\"]"
   ]
  },
  {
   "cell_type": "code",
   "execution_count": 198,
   "metadata": {},
   "outputs": [
    {
     "data": {
      "text/html": [
       "<div>\n",
       "<style scoped>\n",
       "    .dataframe tbody tr th:only-of-type {\n",
       "        vertical-align: middle;\n",
       "    }\n",
       "\n",
       "    .dataframe tbody tr th {\n",
       "        vertical-align: top;\n",
       "    }\n",
       "\n",
       "    .dataframe thead th {\n",
       "        text-align: right;\n",
       "    }\n",
       "</style>\n",
       "<table border=\"1\" class=\"dataframe\">\n",
       "  <thead>\n",
       "    <tr style=\"text-align: right;\">\n",
       "      <th></th>\n",
       "      <th>SepalLength</th>\n",
       "      <th>SepalWidth</th>\n",
       "      <th>PetalLength</th>\n",
       "      <th>PetalWidth</th>\n",
       "      <th>Name</th>\n",
       "    </tr>\n",
       "  </thead>\n",
       "  <tbody>\n",
       "    <tr>\n",
       "      <th>50</th>\n",
       "      <td>7.0</td>\n",
       "      <td>3.2</td>\n",
       "      <td>4.7</td>\n",
       "      <td>1.4</td>\n",
       "      <td>Iris-versicolor</td>\n",
       "    </tr>\n",
       "    <tr>\n",
       "      <th>51</th>\n",
       "      <td>6.4</td>\n",
       "      <td>3.2</td>\n",
       "      <td>4.5</td>\n",
       "      <td>1.5</td>\n",
       "      <td>Iris-versicolor</td>\n",
       "    </tr>\n",
       "    <tr>\n",
       "      <th>52</th>\n",
       "      <td>6.9</td>\n",
       "      <td>3.1</td>\n",
       "      <td>4.9</td>\n",
       "      <td>1.5</td>\n",
       "      <td>Iris-versicolor</td>\n",
       "    </tr>\n",
       "    <tr>\n",
       "      <th>53</th>\n",
       "      <td>5.5</td>\n",
       "      <td>2.3</td>\n",
       "      <td>4.0</td>\n",
       "      <td>1.3</td>\n",
       "      <td>Iris-versicolor</td>\n",
       "    </tr>\n",
       "    <tr>\n",
       "      <th>54</th>\n",
       "      <td>6.5</td>\n",
       "      <td>2.8</td>\n",
       "      <td>4.6</td>\n",
       "      <td>1.5</td>\n",
       "      <td>Iris-versicolor</td>\n",
       "    </tr>\n",
       "    <tr>\n",
       "      <th>...</th>\n",
       "      <td>...</td>\n",
       "      <td>...</td>\n",
       "      <td>...</td>\n",
       "      <td>...</td>\n",
       "      <td>...</td>\n",
       "    </tr>\n",
       "    <tr>\n",
       "      <th>145</th>\n",
       "      <td>6.7</td>\n",
       "      <td>3.0</td>\n",
       "      <td>5.2</td>\n",
       "      <td>2.3</td>\n",
       "      <td>Iris-virginica</td>\n",
       "    </tr>\n",
       "    <tr>\n",
       "      <th>146</th>\n",
       "      <td>6.3</td>\n",
       "      <td>2.5</td>\n",
       "      <td>5.0</td>\n",
       "      <td>1.9</td>\n",
       "      <td>Iris-virginica</td>\n",
       "    </tr>\n",
       "    <tr>\n",
       "      <th>147</th>\n",
       "      <td>6.5</td>\n",
       "      <td>3.0</td>\n",
       "      <td>5.2</td>\n",
       "      <td>2.0</td>\n",
       "      <td>Iris-virginica</td>\n",
       "    </tr>\n",
       "    <tr>\n",
       "      <th>148</th>\n",
       "      <td>6.2</td>\n",
       "      <td>3.4</td>\n",
       "      <td>5.4</td>\n",
       "      <td>2.3</td>\n",
       "      <td>Iris-virginica</td>\n",
       "    </tr>\n",
       "    <tr>\n",
       "      <th>149</th>\n",
       "      <td>5.9</td>\n",
       "      <td>3.0</td>\n",
       "      <td>5.1</td>\n",
       "      <td>1.8</td>\n",
       "      <td>Iris-virginica</td>\n",
       "    </tr>\n",
       "  </tbody>\n",
       "</table>\n",
       "<p>100 rows × 5 columns</p>\n",
       "</div>"
      ],
      "text/plain": [
       "     SepalLength  SepalWidth  PetalLength  PetalWidth             Name\n",
       "50           7.0         3.2          4.7         1.4  Iris-versicolor\n",
       "51           6.4         3.2          4.5         1.5  Iris-versicolor\n",
       "52           6.9         3.1          4.9         1.5  Iris-versicolor\n",
       "53           5.5         2.3          4.0         1.3  Iris-versicolor\n",
       "54           6.5         2.8          4.6         1.5  Iris-versicolor\n",
       "..           ...         ...          ...         ...              ...\n",
       "145          6.7         3.0          5.2         2.3   Iris-virginica\n",
       "146          6.3         2.5          5.0         1.9   Iris-virginica\n",
       "147          6.5         3.0          5.2         2.0   Iris-virginica\n",
       "148          6.2         3.4          5.4         2.3   Iris-virginica\n",
       "149          5.9         3.0          5.1         1.8   Iris-virginica\n",
       "\n",
       "[100 rows x 5 columns]"
      ]
     },
     "execution_count": 198,
     "metadata": {},
     "output_type": "execute_result"
    }
   ],
   "source": [
    "import pandas as pd\n",
    "df = pd.read_csv(\"DS2_iris.csv\")\n",
    "df.tail(100)"
   ]
  },
  {
   "cell_type": "code",
   "execution_count": 225,
   "metadata": {},
   "outputs": [
    {
     "ename": "KeyError",
     "evalue": "'Column not found: False'",
     "output_type": "error",
     "traceback": [
      "\u001b[1;31m---------------------------------------------------------------------------\u001b[0m",
      "\u001b[1;31mKeyError\u001b[0m                                  Traceback (most recent call last)",
      "\u001b[1;32m<ipython-input-225-f8ea359210f9>\u001b[0m in \u001b[0;36m<module>\u001b[1;34m\u001b[0m\n\u001b[1;32m----> 1\u001b[1;33m \u001b[0ma\u001b[0m \u001b[1;33m=\u001b[0m \u001b[0mdf\u001b[0m\u001b[1;33m[\u001b[0m\u001b[0mdf\u001b[0m\u001b[1;33m[\u001b[0m\u001b[1;34m\"Name\"\u001b[0m\u001b[1;33m]\u001b[0m \u001b[1;33m==\u001b[0m \u001b[1;34m'Iris-setosa'\u001b[0m\u001b[1;33m]\u001b[0m\u001b[1;33m\u001b[0m\u001b[1;33m\u001b[0m\u001b[0m\n\u001b[0m\u001b[0;32m      2\u001b[0m \u001b[0ma\u001b[0m\u001b[1;33m.\u001b[0m\u001b[0mhead\u001b[0m\u001b[1;33m(\u001b[0m\u001b[1;36m5\u001b[0m\u001b[1;33m)\u001b[0m\u001b[1;33m\u001b[0m\u001b[1;33m\u001b[0m\u001b[0m\n",
      "\u001b[1;32mD:\\Softwares\\Anaconda\\envs\\tf\\lib\\site-packages\\pandas\\core\\groupby\\generic.py\u001b[0m in \u001b[0;36m__getitem__\u001b[1;34m(self, key)\u001b[0m\n\u001b[0;32m   1608\u001b[0m                 \u001b[0mstacklevel\u001b[0m\u001b[1;33m=\u001b[0m\u001b[1;36m2\u001b[0m\u001b[1;33m,\u001b[0m\u001b[1;33m\u001b[0m\u001b[1;33m\u001b[0m\u001b[0m\n\u001b[0;32m   1609\u001b[0m             )\n\u001b[1;32m-> 1610\u001b[1;33m         \u001b[1;32mreturn\u001b[0m \u001b[0msuper\u001b[0m\u001b[1;33m(\u001b[0m\u001b[1;33m)\u001b[0m\u001b[1;33m.\u001b[0m\u001b[0m__getitem__\u001b[0m\u001b[1;33m(\u001b[0m\u001b[0mkey\u001b[0m\u001b[1;33m)\u001b[0m\u001b[1;33m\u001b[0m\u001b[1;33m\u001b[0m\u001b[0m\n\u001b[0m\u001b[0;32m   1611\u001b[0m \u001b[1;33m\u001b[0m\u001b[0m\n\u001b[0;32m   1612\u001b[0m     \u001b[1;32mdef\u001b[0m \u001b[0m_gotitem\u001b[0m\u001b[1;33m(\u001b[0m\u001b[0mself\u001b[0m\u001b[1;33m,\u001b[0m \u001b[0mkey\u001b[0m\u001b[1;33m,\u001b[0m \u001b[0mndim\u001b[0m\u001b[1;33m:\u001b[0m \u001b[0mint\u001b[0m\u001b[1;33m,\u001b[0m \u001b[0msubset\u001b[0m\u001b[1;33m=\u001b[0m\u001b[1;32mNone\u001b[0m\u001b[1;33m)\u001b[0m\u001b[1;33m:\u001b[0m\u001b[1;33m\u001b[0m\u001b[1;33m\u001b[0m\u001b[0m\n",
      "\u001b[1;32mD:\\Softwares\\Anaconda\\envs\\tf\\lib\\site-packages\\pandas\\core\\base.py\u001b[0m in \u001b[0;36m__getitem__\u001b[1;34m(self, key)\u001b[0m\n\u001b[0;32m    226\u001b[0m         \u001b[1;32melse\u001b[0m\u001b[1;33m:\u001b[0m\u001b[1;33m\u001b[0m\u001b[1;33m\u001b[0m\u001b[0m\n\u001b[0;32m    227\u001b[0m             \u001b[1;32mif\u001b[0m \u001b[0mkey\u001b[0m \u001b[1;32mnot\u001b[0m \u001b[1;32min\u001b[0m \u001b[0mself\u001b[0m\u001b[1;33m.\u001b[0m\u001b[0mobj\u001b[0m\u001b[1;33m:\u001b[0m\u001b[1;33m\u001b[0m\u001b[1;33m\u001b[0m\u001b[0m\n\u001b[1;32m--> 228\u001b[1;33m                 \u001b[1;32mraise\u001b[0m \u001b[0mKeyError\u001b[0m\u001b[1;33m(\u001b[0m\u001b[1;34mf\"Column not found: {key}\"\u001b[0m\u001b[1;33m)\u001b[0m\u001b[1;33m\u001b[0m\u001b[1;33m\u001b[0m\u001b[0m\n\u001b[0m\u001b[0;32m    229\u001b[0m             \u001b[1;32mreturn\u001b[0m \u001b[0mself\u001b[0m\u001b[1;33m.\u001b[0m\u001b[0m_gotitem\u001b[0m\u001b[1;33m(\u001b[0m\u001b[0mkey\u001b[0m\u001b[1;33m,\u001b[0m \u001b[0mndim\u001b[0m\u001b[1;33m=\u001b[0m\u001b[1;36m1\u001b[0m\u001b[1;33m)\u001b[0m\u001b[1;33m\u001b[0m\u001b[1;33m\u001b[0m\u001b[0m\n\u001b[0;32m    230\u001b[0m \u001b[1;33m\u001b[0m\u001b[0m\n",
      "\u001b[1;31mKeyError\u001b[0m: 'Column not found: False'"
     ]
    }
   ],
   "source": [
    "a = df[df[\"Name\"] == 'Iris-setosa'] \n",
    "a.head(5)"
   ]
  },
  {
   "cell_type": "code",
   "execution_count": 76,
   "metadata": {},
   "outputs": [
    {
     "data": {
      "text/plain": [
       "<pandas.core.groupby.generic.DataFrameGroupBy object at 0x0000019BA9EEBE48>"
      ]
     },
     "execution_count": 76,
     "metadata": {},
     "output_type": "execute_result"
    }
   ],
   "source": [
    "d = df.groupby(\"Name\")\n",
    "d"
   ]
  },
  {
   "cell_type": "code",
   "execution_count": 87,
   "metadata": {},
   "outputs": [
    {
     "data": {
      "image/png": "[encoded data removed]",
      "text/plain": [
       "<Figure size 432x288 with 1 Axes>"
      ]
     },
     "metadata": {
      "needs_background": "light"
     },
     "output_type": "display_data"
    }
   ],
   "source": [
    "import pandas as pd\n",
    "from matplotlib import pyplot as plt\n",
    "import matplotlib as mpl\n",
    "d = df.groupby(\"Name\")\n",
    "for x,y in d:\n",
    "    plt.scatter(y[\"PetalWidth\"], y[\"PetalLength\"], label=x)\n",
    "plt.xlabel(\"PetalWidth\")\n",
    "plt.ylabel(\"PetalLength\")\n",
    "plt.legend(loc='best',fontsize = 13) \n",
    "mpl.rcParams['font.size']= 14\n",
    "mpl.rcParams['font.sans-serif'] = 'Arial'\n",
    "mpl.rcParams['figure.figsize'] = (6,4)\n",
    "plt.title('Iris data')\n",
    "plt.show()"
   ]
  },
  {
   "cell_type": "code",
   "execution_count": 6,
   "metadata": {},
   "outputs": [
    {
     "name": "stdout",
     "output_type": "stream",
     "text": [
      "<class 'pandas.core.frame.DataFrame'>\n",
      "Int64Index: 50 entries, 0 to 49\n",
      "Data columns (total 5 columns):\n",
      " #   Column       Non-Null Count  Dtype  \n",
      "---  ------       --------------  -----  \n",
      " 0   SepalLength  50 non-null     float64\n",
      " 1   SepalWidth   50 non-null     float64\n",
      " 2   PetalLength  50 non-null     float64\n",
      " 3   PetalWidth   50 non-null     float64\n",
      " 4   Name         50 non-null     object \n",
      "dtypes: float64(4), object(1)\n",
      "memory usage: 2.3+ KB\n"
     ]
    }
   ],
   "source": [
    "a.info()"
   ]
  },
  {
   "cell_type": "code",
   "execution_count": null,
   "metadata": {},
   "outputs": [],
   "source": [
    "\n",
    "for i in enumerate(a):\n",
    "    plt.scatter(a[\"PetalWidth\"], a[\"PetalLength\"], label=\"k\") \n",
    "for i in enumerate(b):\n",
    "    plt.scatter(b[\"PetalWidth\"], b[\"PetalLength\"], label=\"k\") \n",
    "for i in enumerate(c):\n",
    "    plt.scatter(c[\"PetalWidth\"], c[\"PetalLength\"], label=\"k\") "
   ]
  },
  {
   "cell_type": "code",
   "execution_count": 89,
   "metadata": {},
   "outputs": [
    {
     "data": {
      "image/png": "[encoded data removed]",
      "text/plain": [
       "<Figure size 432x288 with 1 Axes>"
      ]
     },
     "metadata": {
      "needs_background": "light"
     },
     "output_type": "display_data"
    }
   ],
   "source": [
    "import pandas as pd\n",
    "from matplotlib import pyplot as plt\n",
    "import matplotlib as mpl\n",
    "df = pd.read_csv(\"DS2_iris.csv\")\n",
    "a = df[df[\"Name\"] == 'Iris-setosa'] \n",
    "b = df[df[\"Name\"] == 'Iris-versicolor']\n",
    "c = df[df[\"Name\"] == 'Iris-virginica']\n",
    "plt.scatter(a[\"PetalWidth\"], a[\"PetalLength\"], label=\"Iris-setosa\",marker='o', c='y', cmap='plasma')\n",
    "plt.scatter(b[\"PetalWidth\"], b[\"PetalLength\"], label=\"Iris-versicolor\",marker='o', c='r', cmap='plasma')\n",
    "plt.scatter(c[\"PetalWidth\"], c[\"PetalLength\"], label=\"Iris-virginica\",marker='o', c='g', cmap='plasma')\n",
    "plt.xlabel(\"PetalWidth\")\n",
    "plt.ylabel(\"PetalLength\")\n",
    "plt.legend(loc='best',fontsize = 13) \n",
    "mpl.rcParams['font.size']= 14\n",
    "mpl.rcParams['font.sans-serif'] = 'Arial'\n",
    "mpl.rcParams['figure.figsize'] = (6,4)\n",
    "plt.title('Iris data')\n",
    "plt.show()"
   ]
  },
  {
   "cell_type": "code",
   "execution_count": 50,
   "metadata": {},
   "outputs": [
    {
     "name": "stdout",
     "output_type": "stream",
     "text": [
      "<class 'pandas.core.frame.DataFrame'>\n",
      "RangeIndex: 150 entries, 0 to 149\n",
      "Data columns (total 5 columns):\n",
      " #   Column       Non-Null Count  Dtype  \n",
      "---  ------       --------------  -----  \n",
      " 0   SepalLength  150 non-null    float64\n",
      " 1   SepalWidth   150 non-null    float64\n",
      " 2   PetalLength  150 non-null    float64\n",
      " 3   PetalWidth   150 non-null    float64\n",
      " 4   Name         150 non-null    object \n",
      "dtypes: float64(4), object(1)\n",
      "memory usage: 6.0+ KB\n"
     ]
    }
   ],
   "source": [
    "df = pd.read_csv(\"DS2_iris.csv\")\n",
    "df.info()"
   ]
  },
  {
   "cell_type": "code",
   "execution_count": 44,
   "metadata": {},
   "outputs": [
    {
     "data": {
      "text/plain": [
       "<pandas.core.groupby.generic.DataFrameGroupBy object at 0x0000019BAB688E48>"
      ]
     },
     "execution_count": 44,
     "metadata": {},
     "output_type": "execute_result"
    }
   ],
   "source": [
    "df = pd.read_csv(\"DS2_iris.csv\")\n",
    "df = df.groupby(\"Name\")\n",
    "df"
   ]
  },
  {
   "cell_type": "code",
   "execution_count": 30,
   "metadata": {},
   "outputs": [
    {
     "data": {
      "image/png": "[encoded data removed]",
      "text/plain": [
       "<Figure size 720x576 with 1 Axes>"
      ]
     },
     "metadata": {
      "needs_background": "light"
     },
     "output_type": "display_data"
    }
   ],
   "source": [
    "import pandas as pd\n",
    "from matplotlib import pyplot as plt\n",
    "import matplotlib as mpl\n",
    "df = pd.read_csv(\"DS2_iris.csv\")\n",
    "a = df[df[\"Name\"] == 'Iris-setosa'] \n",
    "b = df[df[\"Name\"] == 'Iris-versicolor']\n",
    "c = df[df[\"Name\"] == 'Iris-virginica']\n",
    "plt.scatter(a[\"PetalWidth\"], a[\"PetalLength\"], label=\"Iris-setosa\")\n",
    "plt.scatter(b[\"PetalWidth\"], b[\"PetalLength\"], label=\"Iris-versicolor\")\n",
    "plt.scatter(c[\"PetalWidth\"], c[\"PetalLength\"], label=\"Iris-virginica\")\n",
    "plt.xlabel(\"PetalWidth\")\n",
    "plt.ylabel(\"PetalLength\")\n",
    "plt.legend(loc='best') \n",
    "mpl.rcParams['font.size']= 14\n",
    "mpl.rcParams['font.sans-serif'] = 'Arial'\n",
    "mpl.rcParams['figure.figsize'] = (10,8)\n",
    "plt.title('Iris data')\n",
    "plt.show()"
   ]
  },
  {
   "cell_type": "markdown",
   "metadata": {
    "id": "37DMY818jzZy"
   },
   "source": [
    "# レポート提出について\n",
    "\n"
   ]
  },
  {
   "cell_type": "markdown",
   "metadata": {
    "id": "rLzUiGyLXOdo"
   },
   "source": [
    "## レポートの提出方法\n",
    "\n",
    "　レポートは**答案テンプレートを用い**、**1つのファイル（.doc, .docx, .pdf）**にまとめ、**学籍番号と氏名を確認の上**、**次回 基盤データサイエンス演習 の開始時刻までに東工大ポータルのOCW-iから提出**すること。\n",
    "ファイルのアップロード後、OCW-iで「提出済」というアイコンが表示されていることを必ず確認すること。それ以外の場合は未提出扱いとなるので十分注意すること。\n",
    "また、締め切りを過ぎるとファイルの提出ができないため、時間に余裕を持って提出を行うこと。\n"
   ]
  },
  {
   "cell_type": "markdown",
   "metadata": {
    "id": "2z6NkAX-3IQG"
   },
   "source": [
    "## 答案テンプレート\n",
    "\n",
    "```\n",
    "学籍番号:\n",
    "名前:\n",
    "\n",
    "課題 DS2.1\n",
    "`__xxxxx__` = ______min________\n",
    "PetalLengthの最小値：___1.0_____\n",
    "\n",
    "課題 DS2.2\n",
    "出力される値の精度：\n",
    "　_____________________________________\n",
    "値が表示されるまでにかかった時間とサンプル数との関係：\n",
    "　_____________________________________\n",
    "\n",
    "課題 DS2.3\n",
    "不偏分散を求める関数の名前は「________________」である。\n",
    "\n",
    "課題 DS2.4\n",
    "plt.______(______) を記述すると\"Iris data\"というタイトルを表示させることができる。\n",
    "plt.title('Iris data')\n",
    "（ここに図を貼る）\n",
    "\n",
    "\n",
    "課題 DS2.5\n",
    "\n",
    "（ここに図を貼る）\n",
    "\n",
    "```"
   ]
  },
  {
   "cell_type": "markdown",
   "metadata": {
    "id": "Qbu39Yd11BMb"
   },
   "source": [
    "# 補足資料\n",
    "\n",
    "## ※1：matplotlibで作れる様々な図\n",
    "\n",
    "matplotlibは他にも様々な図、あるいは複雑な図を作成することが可能である。[matplotlibのチュートリアル](https://matplotlib.org/3.1.0/tutorials/introductory/pyplot.html#sphx-glr-tutorials-introductory-pyplot-py)など、参考にしてほしい。\n"
   ]
  }
 ],
 "metadata": {
  "colab": {
   "collapsed_sections": [],
   "name": "DS2_Fundamentals_of_data_analysis.ipynb",
   "provenance": [],
   "toc_visible": true
  },
  "kernelspec": {
   "display_name": "Python 3",
   "language": "python",
   "name": "python3"
  },
  "language_info": {
   "codemirror_mode": {
    "name": "ipython",
    "version": 3
   },
   "file_extension": ".py",
   "mimetype": "text/x-python",
   "name": "python",
   "nbconvert_exporter": "python",
   "pygments_lexer": "ipython3",
   "version": "3.7.9"
  }
 },
 "nbformat": 4,
 "nbformat_minor": 4
}
