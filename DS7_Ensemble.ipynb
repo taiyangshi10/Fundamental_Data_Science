{
 "cells": [
  {
   "cell_type": "markdown",
   "metadata": {
    "id": "qsZHFZOM_D5o"
   },
   "source": [
    "# 基盤DS演習 第7回\n",
    "　今回の演習の内容は以下の5つである。\n",
    "\n",
    "　**DS7.0 | データセットの構築**\n",
    "\n",
    "　**DS7.1 | アンサンブル学習 (ensemble learning) とは**\n",
    "\n",
    "　**DS7.2 | バギング (bagging)**\n",
    "\n",
    "　**DS7.3 | ランダムフォレスト (random forest; RF)**\n",
    "\n",
    "　**DS7.4 | ブースティング (boosting)**\n"
   ]
  },
  {
   "cell_type": "markdown",
   "metadata": {
    "id": "hnpjrDI2rVcq"
   },
   "source": [
    "## DS7.0 | データセットの構築\n",
    "\n",
    "　今回も、手書き文字認識 (digits) のデータセットを用いるので、データの準備から始めよう。"
   ]
  },
  {
   "cell_type": "code",
   "execution_count": 1,
   "metadata": {
    "id": "ChjmCaqME3Gp"
   },
   "outputs": [],
   "source": [
    "from sklearn import datasets\n",
    "import matplotlib.pyplot as plt\n",
    "\n",
    "d = datasets.load_digits()\n",
    "images = d.images"
   ]
  },
  {
   "cell_type": "markdown",
   "metadata": {
    "id": "QndHOuxmr7Dp"
   },
   "source": [
    "　以下のセルは、digitsのデータセットの画像を表示してくれる。 `image_index` が画像の番号を表すので、いくつかの画像を目で見ておくと良い。"
   ]
  },
  {
   "cell_type": "code",
   "execution_count": 2,
   "metadata": {
    "id": "1kNTVIWuFf4L"
   },
   "outputs": [
    {
     "data": {
      "image/png": "[encoded data removed]",
      "text/plain": [
       "<Figure size 216x216 with 1 Axes>"
      ]
     },
     "metadata": {
      "needs_background": "light"
     },
     "output_type": "display_data"
    }
   ],
   "source": [
    "# display digit image\n",
    "# change image_index and see each image with its label\n",
    "\n",
    "image_index = 100\n",
    "plt.figure(1, figsize=(3, 3))\n",
    "plt.imshow(images[image_index], cmap=plt.cm.gray_r, interpolation='nearest')\n",
    "plt.title(\"An image of \\\"\"+str(d.target[image_index])+\"\\\"\")\n",
    "plt.show()"
   ]
  },
  {
   "cell_type": "markdown",
   "metadata": {
    "id": "LTJ-CVhJsSO2"
   },
   "source": [
    "　今回も汎化性能を見るために訓練データとテストデータに分割し、訓練データのみから学習を行い、テストデータを予測することでモデルを評価していく。"
   ]
  },
  {
   "cell_type": "code",
   "execution_count": 3,
   "metadata": {
    "id": "LIIgDqLSYxqh"
   },
   "outputs": [],
   "source": [
    "# make training/test dataset\n",
    "n_train = 1000\n",
    "X_train = d.data[:n_train,:]\n",
    "y_train = d.target[:n_train] # training data \n",
    "X_test = d.data[n_train:,:]\n",
    "y_test = d.target[n_train:] # test data\n",
    "\n",
    "images_train = images[:n_train]\n",
    "images_test = images[n_train:]"
   ]
  },
  {
   "cell_type": "markdown",
   "metadata": {
    "id": "91-Q4OPf_crs"
   },
   "source": [
    "## DS7.1 | アンサンブル学習とは\n",
    "\n",
    "　**アンサンブル学習**とは、一つ一つの予測性能は高くない学習器を複数学習し、それらを多数決や平均などで集約した結果を出力することで、個々の学習器よりも高い精度の予測を行う手法である。原理的にはどのような学習器でもアンサンブル学習を行うことができるが、今回は決定木を使用する。"
   ]
  },
  {
   "cell_type": "markdown",
   "metadata": {
    "id": "uEYJV1Yp_izx"
   },
   "source": [
    "　まずは基盤データサイエンス 第3回に学んだ決定木について復習しよう。\n",
    "決定木（decision tree）とは、目的変数（従属変数）をうまく分類できる説明変数で分岐させ続けることで分類を行うモデルである。\n",
    "\n"
   ]
  },
  {
   "cell_type": "code",
   "execution_count": 4,
   "metadata": {
    "id": "5eJlo8j7E4Vf"
   },
   "outputs": [
    {
     "name": "stdout",
     "output_type": "stream",
     "text": [
      "0.7791718946047679\n"
     ]
    }
   ],
   "source": [
    "from sklearn import tree, metrics\n",
    "single_tree = tree.DecisionTreeClassifier(max_depth=10, random_state=0)\n",
    "\n",
    "single_tree.fit(X_train,y_train) # fitting \n",
    "y_pred = single_tree.predict(X_test) # prediction for test dataset\n",
    "\n",
    "print(metrics.accuracy_score(y_pred, y_test)) # test accuracy"
   ]
  },
  {
   "cell_type": "markdown",
   "metadata": {
    "id": "RqcoWJMnuLgC"
   },
   "source": [
    "　決定木単体では、テストデータに対して0.779という正解率であった。これが、アンサンブル学習によってどのようになっていくのか、見ていこう。"
   ]
  },
  {
   "cell_type": "markdown",
   "metadata": {
    "id": "vEzeqODKK35B"
   },
   "source": [
    "## DS7.2 | バギング (bagging)"
   ]
  },
  {
   "cell_type": "markdown",
   "metadata": {
    "id": "D0OxKcogK_Gj"
   },
   "source": [
    "　**バギング**とは複数の決定木の平均、もしくは多数決で予測を行う手法である。しかし、一般的には同じデータセットから学習を行うと同じ決定木が得られてしまう。当たり前であるが、同じモデルの平均や多数決では予測精度は向上しないので、異なるモデルを得る必要がある。\n",
    "\n",
    "　一方、一つのデータセットを加工して複数の異なるデータセットを得ることができれば、そこから異なる決定木を学習することができる。この手法の一つに**ブートストラップ法 (bootstrap resampling)** がある。**バギングではブートストラップ法を用いて複数のデータセットを作成し、それぞれのデータセットに対して決定木を訓練する**ことで異なる決定木を得る。"
   ]
  },
  {
   "cell_type": "markdown",
   "metadata": {
    "id": "A8CbKUmlNPyw"
   },
   "source": [
    "　ブートストラップ法では、$N$ 個のデータを含むデータセットから**重複を許して（復元抽出で）**ランダムに$N$ 個を取り出し、新しいデータセットを作る。簡単なデータに対して実際にブートストラップ法を適用してみよう。"
   ]
  },
  {
   "cell_type": "code",
   "execution_count": 5,
   "metadata": {
    "id": "zm1akpoeNiot"
   },
   "outputs": [
    {
     "name": "stdout",
     "output_type": "stream",
     "text": [
      "[0 1 2 3 4 5 6 7 8 9]\n"
     ]
    }
   ],
   "source": [
    "import numpy as np\n",
    "\n",
    "data_orig = np.arange(10) # make a list of [0...9] \n",
    "print(data_orig)"
   ]
  },
  {
   "cell_type": "code",
   "execution_count": 6,
   "metadata": {
    "id": "6AGQ5jWLNxzD"
   },
   "outputs": [
    {
     "name": "stdout",
     "output_type": "stream",
     "text": [
      "[6 4 7 8 8 9 4 1 9 8]\n",
      "[4 7 1 0 7 8 1 3 1 6]\n"
     ]
    }
   ],
   "source": [
    "data_sampled = np.random.choice(data_orig, len(data_orig)) # randomly choose from data_orig. do (len(data_orig)) times\n",
    "print(data_sampled)\n",
    "\n",
    "data_sampled = np.random.choice(data_orig, len(data_orig))\n",
    "print(data_sampled)"
   ]
  },
  {
   "cell_type": "markdown",
   "metadata": {
    "id": "ILQt9vKiYuas"
   },
   "source": [
    "　このように、ブートストラップ法を用いることにより、一つのデータセットから複数のデータセットを作成することができる。（これを使って、自分でバギングを実装するのは課題とする。）"
   ]
  },
  {
   "cell_type": "markdown",
   "metadata": {
    "id": "2aD94QJVTlsz"
   },
   "source": [
    "　次に、scikit-learnを使ってバギングを実際に行ってみよう。scikit-learnでは`sklearn.ensenble`にアンサンブル学習の手法がまとめられている。scikit-learnのバギング(`BaggingClassifier`)では、`base_estimator`に指定したモデルを自動的に`n_estimator`個作成し、その多数決または平均で予測を行うことができる。\n",
    "\n",
    "　`BaggingClassifier.fit()`を行うと、内部でブートストラップ法を用いて複数のデータセットが作成され、`n_estimator`個のモデルが一度に訓練されている。"
   ]
  },
  {
   "cell_type": "code",
   "execution_count": 7,
   "metadata": {
    "id": "iO_zNMFCV5En"
   },
   "outputs": [
    {
     "name": "stdout",
     "output_type": "stream",
     "text": [
      "0.877038895859473\n"
     ]
    }
   ],
   "source": [
    "from sklearn import ensemble\n",
    "single_tree = tree.DecisionTreeClassifier(max_depth=10, random_state=0) \n",
    "\n",
    "bagging_dt = ensemble.BaggingClassifier(base_estimator=single_tree, n_estimators=10, random_state=0)\n",
    "bagging_dt.fit(X_train,y_train) # fitting \n",
    "\n",
    "y_pred = bagging_dt.predict(X_test)\n",
    "print(metrics.accuracy_score(y_pred, y_test)) # test accuracy"
   ]
  },
  {
   "cell_type": "markdown",
   "metadata": {
    "id": "WTMcrY_Ju0KY"
   },
   "source": [
    "　予測結果について、`image_index`の値を変更させながら、テストデータの画像とそのラベル、予測結果を同時に眺めてみよう。特に予測に失敗したデータを見つけると良い。"
   ]
  },
  {
   "cell_type": "code",
   "execution_count": 8,
   "metadata": {
    "id": "Yv9gBB0ErSui"
   },
   "outputs": [
    {
     "data": {
      "image/png": "[encoded data removed]",
      "text/plain": [
       "<Figure size 216x216 with 1 Axes>"
      ]
     },
     "metadata": {
      "needs_background": "light"
     },
     "output_type": "display_data"
    }
   ],
   "source": [
    "# display digit image\n",
    "# change image_index and see each image with its label\n",
    "\n",
    "image_index = 45\n",
    "plt.figure(1, figsize=(3, 3))\n",
    "plt.imshow(images_test[image_index], cmap=plt.cm.gray_r, interpolation='nearest')\n",
    "title_str = \"True: \"+str(y_test[image_index]) + \"\\nPredicted: \"+str(y_pred[image_index]) \n",
    "plt.title(title_str)\n",
    "plt.show()"
   ]
  },
  {
   "cell_type": "markdown",
   "metadata": {
    "id": "UJeq9K2GO7JS"
   },
   "source": [
    "---\n",
    "\n",
    "##### 課題 DS7.1\n",
    "\n",
    "　sckit-learnを用いずにブートストラップ法によるデータセットの生成を実装してみよう。次のコードは以下の内容を実装するコードである。適切に `__xxxxx__`, `__yyyyy__`, `__zzzzz__` を埋めて実行可能にせよ。\n",
    "\n",
    "1. 平均0, 標準偏差1の正規分布から1000個のデータをもつデータセット `data_normal` を作成する。\n",
    "\n",
    "2. `data_normal` からブートストラップ法を用いて1000個のデータをもつデータセットを10回生成し、各データセットの平均と標準偏差を表示する。\n",
    "\n",
    "なお、実行できるようになったら、平均と標準偏差が元の正規分布とほぼ同一であることを確認してほしい。\n"
   ]
  },
  {
   "cell_type": "code",
   "execution_count": 9,
   "metadata": {
    "id": "YTbjTFjMQ44R"
   },
   "outputs": [
    {
     "ename": "NameError",
     "evalue": "name '__xxxxx__' is not defined",
     "output_type": "error",
     "traceback": [
      "\u001b[1;31m---------------------------------------------------------------------------\u001b[0m",
      "\u001b[1;31mNameError\u001b[0m                                 Traceback (most recent call last)",
      "\u001b[1;32m<ipython-input-9-33fb1d71c307>\u001b[0m in \u001b[0;36m<module>\u001b[1;34m\u001b[0m\n\u001b[1;32m----> 1\u001b[1;33m \u001b[0mdata_normal\u001b[0m \u001b[1;33m=\u001b[0m \u001b[0mnp\u001b[0m\u001b[1;33m.\u001b[0m\u001b[0mrandom\u001b[0m\u001b[1;33m.\u001b[0m\u001b[0mnormal\u001b[0m\u001b[1;33m(\u001b[0m\u001b[0m__xxxxx__\u001b[0m\u001b[1;33m)\u001b[0m\u001b[1;33m\u001b[0m\u001b[1;33m\u001b[0m\u001b[0m\n\u001b[0m\u001b[0;32m      2\u001b[0m \u001b[1;33m\u001b[0m\u001b[0m\n\u001b[0;32m      3\u001b[0m \u001b[0mnum_iter\u001b[0m \u001b[1;33m=\u001b[0m \u001b[1;36m10\u001b[0m\u001b[1;33m\u001b[0m\u001b[1;33m\u001b[0m\u001b[0m\n\u001b[0;32m      4\u001b[0m \u001b[1;32mfor\u001b[0m \u001b[0mi\u001b[0m \u001b[1;32min\u001b[0m \u001b[0mrange\u001b[0m\u001b[1;33m(\u001b[0m\u001b[0mnum_iter\u001b[0m\u001b[1;33m)\u001b[0m\u001b[1;33m:\u001b[0m\u001b[1;33m\u001b[0m\u001b[1;33m\u001b[0m\u001b[0m\n\u001b[0;32m      5\u001b[0m   \u001b[0mdata_sampled\u001b[0m \u001b[1;33m=\u001b[0m \u001b[0mnp\u001b[0m\u001b[1;33m.\u001b[0m\u001b[0mrandom\u001b[0m\u001b[1;33m.\u001b[0m\u001b[0mchoice\u001b[0m\u001b[1;33m(\u001b[0m\u001b[0m__yyyyy__\u001b[0m\u001b[1;33m,\u001b[0m \u001b[0m__zzzzz__\u001b[0m\u001b[1;33m)\u001b[0m\u001b[1;33m\u001b[0m\u001b[1;33m\u001b[0m\u001b[0m\n",
      "\u001b[1;31mNameError\u001b[0m: name '__xxxxx__' is not defined"
     ]
    }
   ],
   "source": [
    "data_normal = np.random.normal(__xxxxx__)\n",
    "\n",
    "num_iter = 10\n",
    "for i in range(num_iter):\n",
    "  data_sampled = np.random.choice(__yyyyy__, __zzzzz__)\n",
    "  print(np.mean(data_sampled), np.std(data_sampled))\n"
   ]
  },
  {
   "cell_type": "markdown",
   "metadata": {
    "id": "5r0E0vFisXlg"
   },
   "source": [
    "---\n",
    "##### 課題 DS7.2（発展、提出の必要はありません）\n",
    "\n",
    "　scikit-learnの`BaggingClassifier`を使わずに、多数決によるバギングを実装してみよう。\n",
    "\n",
    "　digitデータセットについて、学習するデータ数を1000としたとき、\n",
    "\n",
    "1.   ブートストラップ法を用いて100個のデータセットを作成し、\n",
    "2.   それぞれのデータセットに基づいて100個の決定木を`DecisionTreeClassifier`を用いて作成し、\n",
    "3.   その結果の多数決をとる\n",
    "\n",
    "ことによりバギングを実装せよ。また、その結果が`BaggingClassifier`を用いて実装したバギングの予測精度と概ね一致することを確認せよ。\n",
    "\n",
    "-------\n"
   ]
  },
  {
   "cell_type": "markdown",
   "metadata": {
    "id": "ZnrofiQ5F_VY"
   },
   "source": [
    "## DS7.3 | ランダムフォレスト (random forest)"
   ]
  },
  {
   "cell_type": "markdown",
   "metadata": {
    "id": "T0C-w9RbHNvN"
   },
   "source": [
    "　**ランダムフォレスト**はバギングを改良した手法であり、ブートストラップ法を用いて多数のデータセットを生成し、各データセットから決定木を生成する。それに加えて、ランダムフォレストでは**各決定木の分岐で使用する説明変数（特徴量）をランダムに一部だけ選んで使用**する。"
   ]
  },
  {
   "cell_type": "markdown",
   "metadata": {
    "id": "uJlCctM9yOpd"
   },
   "source": [
    "　アンサンブル学習では各学習器の性質が多様であるほど集約の効果が高まるという性質がある。特徴量をランダムに選ぶことにより単独の学習器の性能が少し落ちる一方、学習器の多様性が高まるため、ランダムフォレストはバギングよりも性能が高いとされている。\n",
    "\n",
    "　では、バギングと同様にランダムフォレストを学習させてみよう。"
   ]
  },
  {
   "cell_type": "code",
   "execution_count": 9,
   "metadata": {
    "id": "UdP1EqG0Rdsx"
   },
   "outputs": [
    {
     "name": "stdout",
     "output_type": "stream",
     "text": [
      "0.9071518193224593\n"
     ]
    }
   ],
   "source": [
    "rf = ensemble.RandomForestClassifier(max_depth=10, n_estimators=10, random_state=0)\n",
    "rf.fit(X_train,y_train) # fitting \n",
    "\n",
    "y_pred = rf.predict(X_test)\n",
    "\n",
    "print(metrics.accuracy_score(y_pred, y_test)) # test accuracy\n"
   ]
  },
  {
   "cell_type": "markdown",
   "metadata": {
    "id": "t7JlSLqbTseq"
   },
   "source": [
    "　また、ランダムフォレストでは、各変数がどの程度予測に寄与しているかの情報を計算することができる。各決定木でそれぞれの分割を行う際、分割に使用した変数の寄与は分割に用いる指標の改善量で与えられる。これをすべての分割で合計することで各変数の寄与の割合が得られる。\n",
    "\n",
    "　実際に上のランダムフォレストにおける各変数の寄与を見てみよう。"
   ]
  },
  {
   "cell_type": "code",
   "execution_count": 10,
   "metadata": {
    "id": "5LdKg1PiaZb3"
   },
   "outputs": [
    {
     "data": {
      "image/png": "[encoded data removed]",
      "text/plain": [
       "<Figure size 432x288 with 1 Axes>"
      ]
     },
     "metadata": {
      "needs_background": "light"
     },
     "output_type": "display_data"
    }
   ],
   "source": [
    "importances = rf.feature_importances_\n",
    "\n",
    "# show importances as barplot\n",
    "indices = np.argsort(importances)[::-1]\n",
    "D = 20 # number of importances to show\n",
    "plt.bar(range(D), importances[indices[:D]])\n",
    "plt.xticks(range(D), indices[:D])\n",
    "plt.title(\"Feature importance\")\n",
    "plt.show()"
   ]
  },
  {
   "cell_type": "markdown",
   "metadata": {
    "id": "wDVa7tmbw2mV"
   },
   "source": [
    "　重要な変数のIDが羅列されたが、これだけではイマイチ画像のどのあたりが重要かわからない。画像で表現してみよう。"
   ]
  },
  {
   "cell_type": "code",
   "execution_count": 11,
   "metadata": {
    "id": "pY-OCD7onY3H"
   },
   "outputs": [
    {
     "data": {
      "image/png": "[encoded data removed]",
      "text/plain": [
       "<Figure size 360x360 with 2 Axes>"
      ]
     },
     "metadata": {
      "needs_background": "light"
     },
     "output_type": "display_data"
    }
   ],
   "source": [
    "# show importances on image\n",
    "\n",
    "importances_reshape = np.reshape(importances, images[0].shape)\n",
    "fig, ax = plt.subplots(1, figsize=(5, 5))\n",
    "\n",
    "im = plt.imshow(importances_reshape,\n",
    "                interpolation='nearest', cmap=plt.cm.jet)\n",
    "fig.colorbar(im)\n",
    "plt.title(\"Feature importance of random forest\")\n",
    "plt.show()"
   ]
  },
  {
   "cell_type": "markdown",
   "metadata": {
    "id": "wqmtsziSqa6k"
   },
   "source": [
    "　実際に文字が書かれている部分に寄与が集中しており、特に寄与が高いのは中央部であることがわかる。\n",
    "\n",
    "　なお、ある特徴量の寄与が高いことは、その特徴量で木を分割した際にデータがきれいに分割できることを表しているだけで、その特徴量の値（画像であれば画素の値）が大きければ（小さければ）この文字は〇〇（数字 \"3\" とか）だと分類できる、というわけではないことに留意する必要がある。"
   ]
  },
  {
   "cell_type": "markdown",
   "metadata": {
    "id": "gR-ZrLPERIN1"
   },
   "source": [
    "---\n",
    "\n",
    "##### 課題 DS7.3\n",
    "\n",
    "　`ensemble.RandomForestClassifier()`に与えている変数`n_estimators`は多数決に使用する決定木の数を表すパラメータである。\n",
    "\n",
    "　digitデータセットにおいて、`n_estimators`の値を20, 40, ...と増やしていったときに、テストデータの予測正解率はどのように変化していくだろうか。簡単に述べよ。\n",
    "\n",
    "------\n"
   ]
  },
  {
   "cell_type": "markdown",
   "metadata": {
    "id": "CfD_QvVvdLFD"
   },
   "source": [
    "## DS7.4 | ブースティング (boosting)"
   ]
  },
  {
   "cell_type": "markdown",
   "metadata": {
    "id": "delR9ff9dO9C"
   },
   "source": [
    "　**ブースティング**はバギングやランダムフォレストと異なり、それぞれの決定木を同時に学習するのではなく、データの重みを変えながら順番に訓練していく手法である。今回の演習ではブースティングの代表的な手法である**Adaboost**を用いる。\n",
    "\n",
    "　Adaboostでは、データの重みは過去に誤って予測したデータの重みが大きくなるようにし、最終的な予測はそれぞれの決定木の重み付き平均で行う。それぞれの決定木の重みは、その木を用いた際の訓練データへの予測精度が高いほど大きくなる。\n",
    "\n",
    "　実際にAdaboostの学習を行ってみよう。"
   ]
  },
  {
   "cell_type": "code",
   "execution_count": 12,
   "metadata": {
    "id": "kpnS0QGrTr69"
   },
   "outputs": [
    {
     "name": "stdout",
     "output_type": "stream",
     "text": [
      "0.9096612296110415\n"
     ]
    }
   ],
   "source": [
    "single_tree = tree.DecisionTreeClassifier(max_depth=10, random_state=0) \n",
    "ada_dt = ensemble.AdaBoostClassifier(base_estimator=single_tree, n_estimators=10, random_state=0)\n",
    "ada_dt.fit(X_train,y_train) # fitting \n",
    "\n",
    "y_pred = ada_dt.predict(X_test)\n",
    "\n",
    "print(metrics.accuracy_score(y_pred, y_test)) # test accuracy\n"
   ]
  },
  {
   "cell_type": "markdown",
   "metadata": {
    "id": "sAIx6kljsEgX"
   },
   "source": [
    "---\n",
    "##### 課題 DS7.4\n",
    "　バギング、ランダムフォレスト、AdaBoostそれぞれについて、木の数を10とした場合のテストデータの予測精度を比較し、性能の高い順に答えよ。\n",
    "\n",
    "　また、木の数を1000とした場合についても同様に性能の高い順に答えよ。\n",
    "\n"
   ]
  },
  {
   "cell_type": "markdown",
   "metadata": {
    "id": "zAlhqLieJibt"
   },
   "source": [
    "---\n",
    "##### 課題 DS7.5（発展）\n",
    "\n",
    "　上記の例では、`ensemble.AdaBoostClassifier(base_estimator=single_tree, ...)`と、最大深さが10の決定木を使うことを明示的に指定したが、`base_estimator`を与えなかった場合はどのような学習器を用いてAdaboostを行うだろうか。\n",
    "scikit-learnの[API Reference](https://scikit-learn.org/stable/modules/classes.html)を参照することで答えよ。\n",
    "\n",
    "----"
   ]
  },
  {
   "cell_type": "markdown",
   "metadata": {
    "id": "37DMY818jzZy"
   },
   "source": [
    "# レポート提出について\n",
    "\n"
   ]
  },
  {
   "cell_type": "markdown",
   "metadata": {
    "id": "rLzUiGyLXOdo"
   },
   "source": [
    "## レポートの提出方法\n",
    "　レポートは**答案テンプレートを用い**、**1つのファイル（.doc, .docx, .pdf）**にまとめ、**学籍番号と氏名を確認の上**、**1週間後の16:20までに東工大ポータルのOCW-iから提出**すること。\n",
    "ファイルのアップロード後、OCW-iで「提出済」というアイコンが表示されていることを必ず確認すること。それ以外の場合は未提出扱いとなるので十分注意すること。\n",
    "また、締め切りを過ぎるとファイルの提出ができないため、時間に余裕を持って提出を行うこと。"
   ]
  },
  {
   "cell_type": "markdown",
   "metadata": {
    "id": "USqypDsXXKm9"
   },
   "source": [
    "## 答案テンプレート\n",
    "\n",
    "```\n",
    "学籍番号:\n",
    "名前:\n",
    "\n",
    "課題 DS7.1\n",
    "__xxxxx__ = __________\n",
    "__yyyyy__ = __________\n",
    "__zzzzz__ = __________\n",
    "\n",
    "課題 DS7.3\n",
    "（自由記述）\n",
    "\n",
    "課題 DS7.4\n",
    "木の数が10本の時の予測精度： ________ > ________ > ________\n",
    "木の数が1000本の時の予測精度： ________ > ________ > ________\n",
    "\n",
    "課題 DS7.5\n",
    "base_estimatorを指定しない場合は_________________が用いられる。\n",
    "\n",
    "\n",
    "```\n",
    "\n"
   ]
  }
 ],
 "metadata": {
  "colab": {
   "collapsed_sections": [],
   "name": "DS7_Ensemble.ipynb",
   "provenance": [],
   "toc_visible": true
  },
  "kernelspec": {
   "display_name": "Python 3",
   "language": "python",
   "name": "python3"
  },
  "language_info": {
   "codemirror_mode": {
    "name": "ipython",
    "version": 3
   },
   "file_extension": ".py",
   "mimetype": "text/x-python",
   "name": "python",
   "nbconvert_exporter": "python",
   "pygments_lexer": "ipython3",
   "version": "3.7.9"
  }
 },
 "nbformat": 4,
 "nbformat_minor": 4
}
